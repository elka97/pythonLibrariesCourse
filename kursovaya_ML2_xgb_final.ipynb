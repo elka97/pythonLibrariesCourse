{
  "nbformat": 4,
  "nbformat_minor": 0,
  "metadata": {
    "kernelspec": {
      "display_name": "Python 3",
      "language": "python",
      "name": "python3"
    },
    "language_info": {
      "codemirror_mode": {
        "name": "ipython",
        "version": 3
      },
      "file_extension": ".py",
      "mimetype": "text/x-python",
      "name": "python",
      "nbconvert_exporter": "python",
      "pygments_lexer": "ipython3",
      "version": "3.6.8"
    },
    "colab": {
      "name": "kursovaya_ML2_xgb_final.ipynb",
      "provenance": [],
      "collapsed_sections": [],
      "include_colab_link": true
    }
  },
  "cells": [
    {
      "cell_type": "markdown",
      "metadata": {
        "id": "view-in-github",
        "colab_type": "text"
      },
      "source": [
        "<a href=\"https://colab.research.google.com/github/elka97/pythonLibrariesCourse/blob/main/kursovaya_ML2_xgb_final.ipynb\" target=\"_parent\"><img src=\"https://colab.research.google.com/assets/colab-badge.svg\" alt=\"Open In Colab\"/></a>"
      ]
    },
    {
      "cell_type": "markdown",
      "metadata": {
        "id": "8_pT6UFoaFKy"
      },
      "source": [
        "**Подключение библиотек и скриптов**"
      ]
    },
    {
      "cell_type": "code",
      "metadata": {
        "id": "BN5_O4yoD7nu",
        "colab": {
          "base_uri": "https://localhost:8080/"
        },
        "outputId": "0b7da4fd-1f48-4973-fee7-b56594471886"
      },
      "source": [
        "!pip install catboost"
      ],
      "execution_count": 1,
      "outputs": [
        {
          "output_type": "stream",
          "text": [
            "Collecting catboost\n",
            "\u001b[?25l  Downloading https://files.pythonhosted.org/packages/47/80/8e9c57ec32dfed6ba2922bc5c96462cbf8596ce1a6f5de532ad1e43e53fe/catboost-0.25.1-cp37-none-manylinux1_x86_64.whl (67.3MB)\n",
            "\u001b[K     |████████████████████████████████| 67.3MB 66kB/s \n",
            "\u001b[?25hRequirement already satisfied: scipy in /usr/local/lib/python3.7/dist-packages (from catboost) (1.4.1)\n",
            "Requirement already satisfied: graphviz in /usr/local/lib/python3.7/dist-packages (from catboost) (0.10.1)\n",
            "Requirement already satisfied: matplotlib in /usr/local/lib/python3.7/dist-packages (from catboost) (3.2.2)\n",
            "Requirement already satisfied: plotly in /usr/local/lib/python3.7/dist-packages (from catboost) (4.4.1)\n",
            "Requirement already satisfied: numpy>=1.16.0 in /usr/local/lib/python3.7/dist-packages (from catboost) (1.19.5)\n",
            "Requirement already satisfied: pandas>=0.24.0 in /usr/local/lib/python3.7/dist-packages (from catboost) (1.1.5)\n",
            "Requirement already satisfied: six in /usr/local/lib/python3.7/dist-packages (from catboost) (1.15.0)\n",
            "Requirement already satisfied: kiwisolver>=1.0.1 in /usr/local/lib/python3.7/dist-packages (from matplotlib->catboost) (1.3.1)\n",
            "Requirement already satisfied: cycler>=0.10 in /usr/local/lib/python3.7/dist-packages (from matplotlib->catboost) (0.10.0)\n",
            "Requirement already satisfied: pyparsing!=2.0.4,!=2.1.2,!=2.1.6,>=2.0.1 in /usr/local/lib/python3.7/dist-packages (from matplotlib->catboost) (2.4.7)\n",
            "Requirement already satisfied: python-dateutil>=2.1 in /usr/local/lib/python3.7/dist-packages (from matplotlib->catboost) (2.8.1)\n",
            "Requirement already satisfied: retrying>=1.3.3 in /usr/local/lib/python3.7/dist-packages (from plotly->catboost) (1.3.3)\n",
            "Requirement already satisfied: pytz>=2017.2 in /usr/local/lib/python3.7/dist-packages (from pandas>=0.24.0->catboost) (2018.9)\n",
            "Installing collected packages: catboost\n",
            "Successfully installed catboost-0.25.1\n"
          ],
          "name": "stdout"
        }
      ]
    },
    {
      "cell_type": "code",
      "metadata": {
        "colab": {
          "base_uri": "https://localhost:8080/"
        },
        "id": "DI2pq6IZGfRp",
        "outputId": "363070b9-b17e-458b-f221-9e80dd43c0a3"
      },
      "source": [
        "!pip install category_encoders"
      ],
      "execution_count": 2,
      "outputs": [
        {
          "output_type": "stream",
          "text": [
            "Collecting category_encoders\n",
            "\u001b[?25l  Downloading https://files.pythonhosted.org/packages/44/57/fcef41c248701ee62e8325026b90c432adea35555cbc870aff9cfba23727/category_encoders-2.2.2-py2.py3-none-any.whl (80kB)\n",
            "\r\u001b[K     |████                            | 10kB 12.9MB/s eta 0:00:01\r\u001b[K     |████████▏                       | 20kB 18.8MB/s eta 0:00:01\r\u001b[K     |████████████▏                   | 30kB 20.2MB/s eta 0:00:01\r\u001b[K     |████████████████▎               | 40kB 23.3MB/s eta 0:00:01\r\u001b[K     |████████████████████▎           | 51kB 24.4MB/s eta 0:00:01\r\u001b[K     |████████████████████████▍       | 61kB 25.7MB/s eta 0:00:01\r\u001b[K     |████████████████████████████▍   | 71kB 25.6MB/s eta 0:00:01\r\u001b[K     |████████████████████████████████| 81kB 7.5MB/s \n",
            "\u001b[?25hRequirement already satisfied: scikit-learn>=0.20.0 in /usr/local/lib/python3.7/dist-packages (from category_encoders) (0.22.2.post1)\n",
            "Requirement already satisfied: numpy>=1.14.0 in /usr/local/lib/python3.7/dist-packages (from category_encoders) (1.19.5)\n",
            "Requirement already satisfied: scipy>=1.0.0 in /usr/local/lib/python3.7/dist-packages (from category_encoders) (1.4.1)\n",
            "Requirement already satisfied: pandas>=0.21.1 in /usr/local/lib/python3.7/dist-packages (from category_encoders) (1.1.5)\n",
            "Requirement already satisfied: patsy>=0.5.1 in /usr/local/lib/python3.7/dist-packages (from category_encoders) (0.5.1)\n",
            "Requirement already satisfied: statsmodels>=0.9.0 in /usr/local/lib/python3.7/dist-packages (from category_encoders) (0.10.2)\n",
            "Requirement already satisfied: joblib>=0.11 in /usr/local/lib/python3.7/dist-packages (from scikit-learn>=0.20.0->category_encoders) (1.0.1)\n",
            "Requirement already satisfied: pytz>=2017.2 in /usr/local/lib/python3.7/dist-packages (from pandas>=0.21.1->category_encoders) (2018.9)\n",
            "Requirement already satisfied: python-dateutil>=2.7.3 in /usr/local/lib/python3.7/dist-packages (from pandas>=0.21.1->category_encoders) (2.8.1)\n",
            "Requirement already satisfied: six in /usr/local/lib/python3.7/dist-packages (from patsy>=0.5.1->category_encoders) (1.15.0)\n",
            "Installing collected packages: category-encoders\n",
            "Successfully installed category-encoders-2.2.2\n"
          ],
          "name": "stdout"
        }
      ]
    },
    {
      "cell_type": "code",
      "metadata": {
        "id": "8qKDA_FoaFK0",
        "colab": {
          "base_uri": "https://localhost:8080/"
        },
        "outputId": "efea30bb-0c1e-47aa-cf32-4d2688578462"
      },
      "source": [
        "import pandas as pd\n",
        "import numpy as np\n",
        "import pickle\n",
        "\n",
        "from sklearn.model_selection import train_test_split, ShuffleSplit, cross_val_score, learning_curve\n",
        "from sklearn.metrics import classification_report, f1_score, precision_score, recall_score\n",
        "from sklearn.model_selection import KFold, GridSearchCV, RandomizedSearchCV\n",
        "import xgboost as xgb\n",
        "import catboost as catb\n",
        "\n",
        "from scipy.stats import shapiro\n",
        "from scipy.stats import probplot\n",
        "from scipy.stats import ttest_ind, mannwhitneyu\n",
        "from scipy.stats import chi2_contingency\n",
        "from statsmodels.stats.weightstats import zconfint\n",
        "\n",
        "import matplotlib\n",
        "import matplotlib.pyplot as plt\n",
        "import seaborn as sns\n",
        "%matplotlib inline\n",
        "\n",
        "from collections import Counter\n",
        "\n",
        "#  pre-processing pipelines\n",
        "from sklearn.preprocessing import FunctionTransformer, OneHotEncoder, StandardScaler, OrdinalEncoder\n",
        "from sklearn.preprocessing import StandardScaler, RobustScaler, MinMaxScaler\n",
        "from sklearn.compose import make_column_selector\n",
        "from sklearn.pipeline import make_pipeline, Pipeline, FeatureUnion\n",
        "from sklearn.impute import SimpleImputer\n",
        "\n",
        "from sklearn.preprocessing import StandardScaler, MinMaxScaler\n",
        "from sklearn.model_selection import train_test_split, ShuffleSplit, cross_val_score, learning_curve\n",
        "from sklearn.metrics import classification_report, f1_score, precision_score, recall_score\n",
        "\n",
        "from sklearn.linear_model import LogisticRegression\n",
        "from sklearn.neighbors import KNeighborsClassifier\n",
        "import xgboost as xgb, lightgbm as lgbm, catboost as catb\n",
        "\n",
        "from sklearn.compose import ColumnTransformer\n",
        "from sklearn.base import BaseEstimator, TransformerMixin "
      ],
      "execution_count": 3,
      "outputs": [
        {
          "output_type": "stream",
          "text": [
            "/usr/local/lib/python3.7/dist-packages/statsmodels/tools/_testing.py:19: FutureWarning: pandas.util.testing is deprecated. Use the functions in the public API at pandas.testing instead.\n",
            "  import pandas.util.testing as tm\n"
          ],
          "name": "stderr"
        }
      ]
    },
    {
      "cell_type": "code",
      "metadata": {
        "id": "WhTsX7omaFK4"
      },
      "source": [
        "def get_classification_report(y_train_true, y_train_pred, y_test_true, y_test_pred):\n",
        "    print('TRAIN\\n\\n' + classification_report(y_train_true, y_train_pred))\n",
        "    print('TEST\\n\\n' + classification_report(y_test_true, y_test_pred))\n",
        "    print('CONFUSION MATRIX\\n')\n",
        "    print(pd.crosstab(y_test_true, y_test_pred))    "
      ],
      "execution_count": 4,
      "outputs": []
    },
    {
      "cell_type": "code",
      "metadata": {
        "id": "Pgwl5GcWaFK7"
      },
      "source": [
        "def show_proba_calibration_plots(y_predicted_probs, y_true_labels):\n",
        "    preds_with_true_labels = np.array(list(zip(y_predicted_probs, y_true_labels)))\n",
        "\n",
        "    thresholds = []\n",
        "    precisions = []\n",
        "    recalls = []\n",
        "    f1_scores = []\n",
        "\n",
        "    for threshold in np.linspace(0.1, 0.9, 9):\n",
        "        thresholds.append(threshold)\n",
        "        precisions.append(precision_score(y_true_labels, list(map(int, y_predicted_probs > threshold))))\n",
        "        recalls.append(recall_score(y_true_labels, list(map(int, y_predicted_probs > threshold))))\n",
        "        f1_scores.append(f1_score(y_true_labels, list(map(int, y_predicted_probs > threshold))))\n",
        "\n",
        "    scores_table = pd.DataFrame({'f1':f1_scores,\n",
        "                                 'precision':precisions,\n",
        "                                 'recall':recalls,\n",
        "                                 'probability':thresholds}).sort_values('f1', ascending=False).round(3)\n",
        "  \n",
        "    figure = plt.figure(figsize = (15, 5))\n",
        "\n",
        "    plt1 = figure.add_subplot(121)\n",
        "    plt1.plot(thresholds, precisions, label='Precision', linewidth=4)\n",
        "    plt1.plot(thresholds, recalls, label='Recall', linewidth=4)\n",
        "    plt1.plot(thresholds, f1_scores, label='F1', linewidth=4)\n",
        "    plt1.set_ylabel('Scores')\n",
        "    plt1.set_xlabel('Probability threshold')\n",
        "    plt1.set_title('Probabilities threshold calibration')\n",
        "    plt1.legend(bbox_to_anchor=(0.25, 0.25))   \n",
        "    plt1.table(cellText = scores_table.values,\n",
        "               colLabels = scores_table.columns, \n",
        "               colLoc = 'center', cellLoc = 'center', loc = 'bottom', bbox = [0, -1.3, 1, 1])\n",
        "\n",
        "    plt2 = figure.add_subplot(122)\n",
        "    plt2.hist(preds_with_true_labels[preds_with_true_labels[:, 1] == 0][:, 0], \n",
        "              label='Another class', color='royalblue', alpha=1)\n",
        "    plt2.hist(preds_with_true_labels[preds_with_true_labels[:, 1] == 1][:, 0], \n",
        "              label='Main class', color='darkcyan', alpha=0.8)\n",
        "    plt2.set_ylabel('Number of examples')\n",
        "    plt2.set_xlabel('Probabilities')\n",
        "    plt2.set_title('Probability histogram')\n",
        "    plt2.legend(bbox_to_anchor=(1, 1))\n",
        "\n",
        "    plt.show()"
      ],
      "execution_count": 5,
      "outputs": []
    },
    {
      "cell_type": "code",
      "metadata": {
        "id": "D6gn0j8sEhTf"
      },
      "source": [
        "def extract_metadata(df_columns, ind_prefix):    \n",
        "    columns = [el for el in df_columns if (el.startswith(ind_prefix.capitalize()) or el.startswith(ind_prefix) or str(el).lower().startswith(ind_prefix.lower()))]\n",
        "    if len(columns) == 0:\n",
        "        print(f\"No {ind_prefix} found.\")\n",
        "    return columns\n",
        "    \n",
        "def drop_extra_cols(d, droplist): \n",
        "  print(f\"Dropping columns {droplist}\") \n",
        "  df1 = d.drop(columns=droplist, axis=1, errors='ignore')\n",
        "  return df1\n",
        "\n",
        "def get_X_y(data):\n",
        "  X = data.drop(columns=[TARGET_NAME], axis=1, errors='ignore')\n",
        "  y = data[TARGET_NAME]\n",
        "  return X, y\n",
        "\n",
        "def reduce_mem_usage(df):\n",
        "    \"\"\" iterate through all the columns of a dataframe and modify the data type\n",
        "        to reduce memory usage.        \n",
        "    \"\"\"\n",
        "    start_mem = df.memory_usage().sum() / 1024**2\n",
        "    print('Memory usage of dataframe is {:.2f} MB'.format(start_mem))\n",
        "    \n",
        "    for col in df.columns:\n",
        "        col_type = df[col].dtype\n",
        "        \n",
        "        if col_type != object:\n",
        "            c_min = df[col].min()\n",
        "            c_max = df[col].max()\n",
        "            if str(col_type)[:3] == 'int':\n",
        "                if c_min > np.iinfo(np.int8).min and c_max < np.iinfo(np.int8).max:\n",
        "                    df[col] = df[col].astype(np.int8)\n",
        "                elif c_min > np.iinfo(np.int16).min and c_max < np.iinfo(np.int16).max:\n",
        "                    df[col] = df[col].astype(np.int16)\n",
        "                elif c_min > np.iinfo(np.int32).min and c_max < np.iinfo(np.int32).max:\n",
        "                    df[col] = df[col].astype(np.int32)\n",
        "                elif c_min > np.iinfo(np.int64).min and c_max < np.iinfo(np.int64).max:\n",
        "                    df[col] = df[col].astype(np.int64)  \n",
        "            else:\n",
        "                if c_min > np.finfo(np.float32).min and c_max < np.finfo(np.float32).max:\n",
        "                    df[col] = df[col].astype(np.float32)\n",
        "                else:\n",
        "                    df[col] = df[col].astype(np.float64)\n",
        "        else:\n",
        "            df[col] = df[col].astype('category')\n",
        "\n",
        "    end_mem = df.memory_usage().sum() / 1024**2\n",
        "    print('Memory usage after optimization is: {:.2f} MB'.format(end_mem))\n",
        "    print('Decreased by {:.1f}%'.format(100 * (start_mem - end_mem) / start_mem))\n",
        "    \n",
        "    return df\n",
        "\n",
        "def category_target_plot(var):\n",
        "  plt.figure(figsize=(10, 8))\n",
        "  sns.countplot(x=var, hue=TARGET_NAME, data=train_df)\n",
        "  plt.title(var+' grouped by target variable')\n",
        "  plt.legend(title='Target', loc='upper right')\n",
        "  plt.show()"
      ],
      "execution_count": 6,
      "outputs": []
    },
    {
      "cell_type": "code",
      "metadata": {
        "id": "15zbPdVdW37Z"
      },
      "source": [
        "def to_digits(s):  \n",
        "   return ''.join(i for i in s if i.isdigit())"
      ],
      "execution_count": 7,
      "outputs": []
    },
    {
      "cell_type": "code",
      "metadata": {
        "id": "_I-WqQouVKZ6"
      },
      "source": [
        "def load_data():\n",
        "  train_df = pd.read_csv(TRAIN_DATASET_PATH)\n",
        "  test_df = pd.read_csv(TEST_DATASET_PATH)\n",
        "  train_df = reduce_mem_usage(train_df)\n",
        "  test_df = reduce_mem_usage(test_df)\n",
        "  print(train_df.shape, test_df.shape )\n",
        "  return train_df, test_df"
      ],
      "execution_count": 8,
      "outputs": []
    },
    {
      "cell_type": "code",
      "metadata": {
        "id": "4nAj6Y1co1Xl"
      },
      "source": [
        "import warnings\n",
        "warnings.simplefilter('ignore')\n",
        "\n",
        "def get_classification_report(y_train_true, y_train_pred, y_test_true, y_test_pred):\n",
        "    print('TRAIN\\n\\n' + classification_report(y_train_true, y_train_pred))\n",
        "    print('TEST\\n\\n' + classification_report(y_test_true, y_test_pred))\n",
        "    print('CONFUSION MATRIX\\n')\n",
        "    print(pd.crosstab(y_test_true, y_test_pred))\n",
        "\n",
        "def evaluate_preds(model, X_train, X_test, y_train, y_test):\n",
        "    y_train_pred = model.predict(X_train)\n",
        "    y_test_pred = model.predict(X_test)\n",
        "    get_classification_report(y_train, y_train_pred, y_test, y_test_pred)"
      ],
      "execution_count": 9,
      "outputs": []
    },
    {
      "cell_type": "code",
      "metadata": {
        "id": "kbW21p1w0FOU"
      },
      "source": [
        "def display_stats(df, var):\n",
        "  _mean = round(df[var].mean(), 2)\n",
        "  _median = df[var].median()\n",
        "  _mode = df[var].mode()[0]\n",
        "  _mean, _median, df[var].mode()\n",
        "  y_length = len(df[var])\n",
        "  print(f\"mean: {_mean}\\nmedian: {_median}\\nmode: {_mode}\")\n",
        "  plt.figure(figsize = (8, 4))\n",
        "  sns.distplot(df[var], bins=50)\n",
        "  y = np.linspace(0, 0.000005, 10)\n",
        "  plt.plot([_mean] * 10, y, label='mean', linestyle=':', linewidth=4)\n",
        "  plt.plot([_median] * 10, y, label='median', linestyle='--', linewidth=4)\n",
        "  plt.plot([_mode] * 10, y, label='mode', linestyle='-.', linewidth=4)\n",
        "  plt.title(f\"Distribution of {var}\")\n",
        "  plt.legend()\n",
        "  plt.show()"
      ],
      "execution_count": 10,
      "outputs": []
    },
    {
      "cell_type": "code",
      "metadata": {
        "id": "PLq1A1RouNuN"
      },
      "source": [
        "def hst(df, var):\n",
        "    plt.figure(figsize=(20,8))\n",
        "    ax1 = plt.subplot(121)\n",
        "    ax1.set_xlabel(var)\n",
        "    ax1.set_ylabel('Count')\n",
        "    ax1.set_title(f'{var} distribution')\n",
        "    df[var].hist()\n",
        "    plt.subplot(122)\n",
        "    probplot(df[var],dist='norm',plot=plt)\n",
        "    plt.show()"
      ],
      "execution_count": 11,
      "outputs": []
    },
    {
      "cell_type": "markdown",
      "metadata": {
        "id": "_YIEukXwaFLE"
      },
      "source": [
        "**Пути к директориям и файлам**"
      ]
    },
    {
      "cell_type": "code",
      "metadata": {
        "id": "cMWWQ5-saFLF"
      },
      "source": [
        "# input\n",
        "# TRAIN_FULL_PATH = '../training_project_train_full.csv'\n",
        "# TRAIN_PART_PATH = '../training_project_train_part_b.csv'\n",
        "# TEST_PART_PATH = '../training_project_test_part.csv'\n",
        "# output\n",
        "# MODEL_FILE_PATH = '../model.pkl'\n",
        "\n",
        "#  my google disk\n",
        "DATASET_PATH = \"/gdrive/My Drive/datasets/\"\n",
        "\n",
        "TRAIN_DATASET_PATH = DATASET_PATH +\"kusrovaya_Kamilya/course_project_train.csv\"\n",
        "TEST_DATASET_PATH = DATASET_PATH +\"kusrovaya_Kamilya/course_project_test.csv\"\n",
        "SUBMIT_DATASET_FILE = DATASET_PATH +\"kusrovaya_Kamilya/sample_submission.csv\"\n",
        "SUBMIT_DATASET_PATH = DATASET_PATH +\"kusrovaya_Kamilya/\"\n",
        "\n",
        "# output\n",
        "MODEL_FILE_PATH = DATASET_PATH +\"kusrovaya_Kamilya/models/\""
      ],
      "execution_count": 12,
      "outputs": []
    },
    {
      "cell_type": "code",
      "metadata": {
        "colab": {
          "base_uri": "https://localhost:8080/"
        },
        "id": "UBMvFo98MbdP",
        "outputId": "7d83c811-12db-44bf-bdd1-edc4fa8fecab"
      },
      "source": [
        "from google.colab import drive\n",
        "drive.mount('/gdrive', force_remount=True)"
      ],
      "execution_count": 13,
      "outputs": [
        {
          "output_type": "stream",
          "text": [
            "Mounted at /gdrive\n"
          ],
          "name": "stdout"
        }
      ]
    },
    {
      "cell_type": "markdown",
      "metadata": {
        "id": "JjIcAWNfPZoO"
      },
      "source": [
        "Constants"
      ]
    },
    {
      "cell_type": "code",
      "metadata": {
        "id": "DSGny0WgPbZ9"
      },
      "source": [
        "TARGET_NAME = 'Credit Default'\n",
        "CATEGORY_DTYPE = 'int8'"
      ],
      "execution_count": 14,
      "outputs": []
    },
    {
      "cell_type": "markdown",
      "metadata": {
        "id": "4-_-sMciRcRh"
      },
      "source": [
        "**Обзор данных**"
      ]
    },
    {
      "cell_type": "markdown",
      "metadata": {
        "id": "Rt-ToW3ERfOu"
      },
      "source": [
        "**Описание датасета**\n",
        "\n",
        "*   Home Ownership - домовладение\n",
        "*   Annual Income - годовой доход\n",
        "*   Years in current job - количество лет на текущем месте работы\n",
        "*   Tax Liens - налоговые обременения\n",
        "*   Number of Open Accounts - количество открытых счетов\n",
        "*   Years of Credit History - количество лет кредитной истории\n",
        "*   Maximum Open Credit - наибольший открытый кредит\n",
        "*   Number of Credit Problems - количество проблем с кредитом\n",
        "*   Months since last delinquent - количество месяцев с последней просрочки платежа\n",
        "*   Bankruptcies - банкротства\n",
        "*   Purpose - цель кредита\n",
        "*   Term - срок кредита\n",
        "*   Current Loan Amount - текущая сумма кредита\n",
        "*   Current Credit Balance - текущий кредитный баланс\n",
        "*   Monthly Debt - ежемесячный долг\n",
        "*   Credit Score - кредитный рейтинг\n",
        "*   Credit Default - факт невыполнения кредитных обязательств (0 - погашен вовремя, 1 - просрочка)\n"
      ]
    },
    {
      "cell_type": "markdown",
      "metadata": {
        "id": "bxS2_hz4aFLJ"
      },
      "source": [
        "### Загрузка подготовленных датасетов<a class=\"anchor\" id=\"data_loading\"></a>"
      ]
    },
    {
      "cell_type": "markdown",
      "metadata": {
        "id": "avP4rcx9aFLK"
      },
      "source": [
        "**Загрузка данных**"
      ]
    },
    {
      "cell_type": "code",
      "metadata": {
        "id": "TmUico1VaFLL",
        "colab": {
          "base_uri": "https://localhost:8080/"
        },
        "outputId": "53a58fe4-b646-4221-fe11-4197140389a3"
      },
      "source": [
        "train_df, test_df = load_data()"
      ],
      "execution_count": 15,
      "outputs": [
        {
          "output_type": "stream",
          "text": [
            "Memory usage of dataframe is 0.97 MB\n",
            "Memory usage after optimization is: 0.38 MB\n",
            "Decreased by 60.9%\n",
            "Memory usage of dataframe is 0.31 MB\n",
            "Memory usage after optimization is: 0.13 MB\n",
            "Decreased by 58.9%\n",
            "(7500, 17) (2500, 16)\n"
          ],
          "name": "stdout"
        }
      ]
    },
    {
      "cell_type": "markdown",
      "metadata": {
        "id": "VNWy2iDyKoA4"
      },
      "source": [
        "**EDA**"
      ]
    },
    {
      "cell_type": "code",
      "metadata": {
        "colab": {
          "base_uri": "https://localhost:8080/"
        },
        "id": "N2RcYgysMqTm",
        "outputId": "f0a8f60d-8740-4ca3-d737-ff8cbc2412e9"
      },
      "source": [
        "train_df.info()"
      ],
      "execution_count": 16,
      "outputs": [
        {
          "output_type": "stream",
          "text": [
            "<class 'pandas.core.frame.DataFrame'>\n",
            "RangeIndex: 7500 entries, 0 to 7499\n",
            "Data columns (total 17 columns):\n",
            " #   Column                        Non-Null Count  Dtype   \n",
            "---  ------                        --------------  -----   \n",
            " 0   Home Ownership                7500 non-null   category\n",
            " 1   Annual Income                 5943 non-null   float32 \n",
            " 2   Years in current job          7129 non-null   category\n",
            " 3   Tax Liens                     7500 non-null   float32 \n",
            " 4   Number of Open Accounts       7500 non-null   float32 \n",
            " 5   Years of Credit History       7500 non-null   float32 \n",
            " 6   Maximum Open Credit           7500 non-null   float32 \n",
            " 7   Number of Credit Problems     7500 non-null   float32 \n",
            " 8   Months since last delinquent  3419 non-null   float32 \n",
            " 9   Bankruptcies                  7486 non-null   float32 \n",
            " 10  Purpose                       7500 non-null   category\n",
            " 11  Term                          7500 non-null   category\n",
            " 12  Current Loan Amount           7500 non-null   float32 \n",
            " 13  Current Credit Balance        7500 non-null   float32 \n",
            " 14  Monthly Debt                  7500 non-null   float32 \n",
            " 15  Credit Score                  5943 non-null   float32 \n",
            " 16  Credit Default                7500 non-null   int8    \n",
            "dtypes: category(4), float32(12), int8(1)\n",
            "memory usage: 389.7 KB\n"
          ],
          "name": "stdout"
        }
      ]
    },
    {
      "cell_type": "code",
      "metadata": {
        "colab": {
          "base_uri": "https://localhost:8080/"
        },
        "id": "aLoLUv1HOmUZ",
        "outputId": "c7fdd71a-5013-46a5-ff16-d2ccf6207b22"
      },
      "source": [
        "train_df.shape, test_df.shape"
      ],
      "execution_count": 17,
      "outputs": [
        {
          "output_type": "execute_result",
          "data": {
            "text/plain": [
              "((7500, 17), (2500, 16))"
            ]
          },
          "metadata": {
            "tags": []
          },
          "execution_count": 17
        }
      ]
    },
    {
      "cell_type": "code",
      "metadata": {
        "colab": {
          "base_uri": "https://localhost:8080/",
          "height": 277
        },
        "id": "z3K7L3zQPSRR",
        "outputId": "5b6035bd-38dc-4a16-89cf-69c37c88086b"
      },
      "source": [
        "train_df.describe()"
      ],
      "execution_count": 18,
      "outputs": [
        {
          "output_type": "execute_result",
          "data": {
            "text/html": [
              "<div>\n",
              "<style scoped>\n",
              "    .dataframe tbody tr th:only-of-type {\n",
              "        vertical-align: middle;\n",
              "    }\n",
              "\n",
              "    .dataframe tbody tr th {\n",
              "        vertical-align: top;\n",
              "    }\n",
              "\n",
              "    .dataframe thead th {\n",
              "        text-align: right;\n",
              "    }\n",
              "</style>\n",
              "<table border=\"1\" class=\"dataframe\">\n",
              "  <thead>\n",
              "    <tr style=\"text-align: right;\">\n",
              "      <th></th>\n",
              "      <th>Annual Income</th>\n",
              "      <th>Tax Liens</th>\n",
              "      <th>Number of Open Accounts</th>\n",
              "      <th>Years of Credit History</th>\n",
              "      <th>Maximum Open Credit</th>\n",
              "      <th>Number of Credit Problems</th>\n",
              "      <th>Months since last delinquent</th>\n",
              "      <th>Bankruptcies</th>\n",
              "      <th>Current Loan Amount</th>\n",
              "      <th>Current Credit Balance</th>\n",
              "      <th>Monthly Debt</th>\n",
              "      <th>Credit Score</th>\n",
              "      <th>Credit Default</th>\n",
              "    </tr>\n",
              "  </thead>\n",
              "  <tbody>\n",
              "    <tr>\n",
              "      <th>count</th>\n",
              "      <td>5.943000e+03</td>\n",
              "      <td>7500.000000</td>\n",
              "      <td>7500.000000</td>\n",
              "      <td>7500.000000</td>\n",
              "      <td>7.500000e+03</td>\n",
              "      <td>7500.0000</td>\n",
              "      <td>3419.000000</td>\n",
              "      <td>7486.000000</td>\n",
              "      <td>7500.0</td>\n",
              "      <td>7.500000e+03</td>\n",
              "      <td>7500.000000</td>\n",
              "      <td>5943.000000</td>\n",
              "      <td>7500.000000</td>\n",
              "    </tr>\n",
              "    <tr>\n",
              "      <th>mean</th>\n",
              "      <td>1.366390e+06</td>\n",
              "      <td>0.030133</td>\n",
              "      <td>11.130934</td>\n",
              "      <td>18.317446</td>\n",
              "      <td>9.451526e+05</td>\n",
              "      <td>0.1700</td>\n",
              "      <td>34.692600</td>\n",
              "      <td>0.117152</td>\n",
              "      <td>11873135.0</td>\n",
              "      <td>2.898332e+05</td>\n",
              "      <td>18314.453125</td>\n",
              "      <td>1151.087524</td>\n",
              "      <td>0.281733</td>\n",
              "    </tr>\n",
              "    <tr>\n",
              "      <th>std</th>\n",
              "      <td>8.453384e+05</td>\n",
              "      <td>0.271613</td>\n",
              "      <td>4.908937</td>\n",
              "      <td>7.041938</td>\n",
              "      <td>1.602614e+07</td>\n",
              "      <td>0.4986</td>\n",
              "      <td>21.688801</td>\n",
              "      <td>0.347197</td>\n",
              "      <td>31926302.0</td>\n",
              "      <td>3.178713e+05</td>\n",
              "      <td>11926.758789</td>\n",
              "      <td>1604.447510</td>\n",
              "      <td>0.449874</td>\n",
              "    </tr>\n",
              "    <tr>\n",
              "      <th>min</th>\n",
              "      <td>1.645970e+05</td>\n",
              "      <td>0.000000</td>\n",
              "      <td>2.000000</td>\n",
              "      <td>4.000000</td>\n",
              "      <td>0.000000e+00</td>\n",
              "      <td>0.0000</td>\n",
              "      <td>0.000000</td>\n",
              "      <td>0.000000</td>\n",
              "      <td>11242.0</td>\n",
              "      <td>0.000000e+00</td>\n",
              "      <td>0.000000</td>\n",
              "      <td>585.000000</td>\n",
              "      <td>0.000000</td>\n",
              "    </tr>\n",
              "    <tr>\n",
              "      <th>25%</th>\n",
              "      <td>8.443410e+05</td>\n",
              "      <td>0.000000</td>\n",
              "      <td>8.000000</td>\n",
              "      <td>13.500000</td>\n",
              "      <td>2.792295e+05</td>\n",
              "      <td>0.0000</td>\n",
              "      <td>16.000000</td>\n",
              "      <td>0.000000</td>\n",
              "      <td>180169.0</td>\n",
              "      <td>1.142565e+05</td>\n",
              "      <td>10067.500000</td>\n",
              "      <td>711.000000</td>\n",
              "      <td>0.000000</td>\n",
              "    </tr>\n",
              "    <tr>\n",
              "      <th>50%</th>\n",
              "      <td>1.168386e+06</td>\n",
              "      <td>0.000000</td>\n",
              "      <td>10.000000</td>\n",
              "      <td>17.000000</td>\n",
              "      <td>4.781590e+05</td>\n",
              "      <td>0.0000</td>\n",
              "      <td>32.000000</td>\n",
              "      <td>0.000000</td>\n",
              "      <td>309573.0</td>\n",
              "      <td>2.093230e+05</td>\n",
              "      <td>16076.500000</td>\n",
              "      <td>731.000000</td>\n",
              "      <td>0.000000</td>\n",
              "    </tr>\n",
              "    <tr>\n",
              "      <th>75%</th>\n",
              "      <td>1.640137e+06</td>\n",
              "      <td>0.000000</td>\n",
              "      <td>14.000000</td>\n",
              "      <td>21.799999</td>\n",
              "      <td>7.935015e+05</td>\n",
              "      <td>0.0000</td>\n",
              "      <td>50.000000</td>\n",
              "      <td>0.000000</td>\n",
              "      <td>519882.0</td>\n",
              "      <td>3.604062e+05</td>\n",
              "      <td>23818.000000</td>\n",
              "      <td>743.000000</td>\n",
              "      <td>1.000000</td>\n",
              "    </tr>\n",
              "    <tr>\n",
              "      <th>max</th>\n",
              "      <td>1.014934e+07</td>\n",
              "      <td>7.000000</td>\n",
              "      <td>43.000000</td>\n",
              "      <td>57.700001</td>\n",
              "      <td>1.304726e+09</td>\n",
              "      <td>7.0000</td>\n",
              "      <td>118.000000</td>\n",
              "      <td>4.000000</td>\n",
              "      <td>100000000.0</td>\n",
              "      <td>6.506797e+06</td>\n",
              "      <td>136679.000000</td>\n",
              "      <td>7510.000000</td>\n",
              "      <td>1.000000</td>\n",
              "    </tr>\n",
              "  </tbody>\n",
              "</table>\n",
              "</div>"
            ],
            "text/plain": [
              "       Annual Income    Tax Liens  ...  Credit Score  Credit Default\n",
              "count   5.943000e+03  7500.000000  ...   5943.000000     7500.000000\n",
              "mean    1.366390e+06     0.030133  ...   1151.087524        0.281733\n",
              "std     8.453384e+05     0.271613  ...   1604.447510        0.449874\n",
              "min     1.645970e+05     0.000000  ...    585.000000        0.000000\n",
              "25%     8.443410e+05     0.000000  ...    711.000000        0.000000\n",
              "50%     1.168386e+06     0.000000  ...    731.000000        0.000000\n",
              "75%     1.640137e+06     0.000000  ...    743.000000        1.000000\n",
              "max     1.014934e+07     7.000000  ...   7510.000000        1.000000\n",
              "\n",
              "[8 rows x 13 columns]"
            ]
          },
          "metadata": {
            "tags": []
          },
          "execution_count": 18
        }
      ]
    },
    {
      "cell_type": "code",
      "metadata": {
        "colab": {
          "base_uri": "https://localhost:8080/",
          "height": 191
        },
        "id": "1BFOlBAiOuzB",
        "outputId": "80672a3b-992d-42ee-89a3-5b1e1f90ea72"
      },
      "source": [
        "train_df.sample(5)"
      ],
      "execution_count": 19,
      "outputs": [
        {
          "output_type": "execute_result",
          "data": {
            "text/html": [
              "<div>\n",
              "<style scoped>\n",
              "    .dataframe tbody tr th:only-of-type {\n",
              "        vertical-align: middle;\n",
              "    }\n",
              "\n",
              "    .dataframe tbody tr th {\n",
              "        vertical-align: top;\n",
              "    }\n",
              "\n",
              "    .dataframe thead th {\n",
              "        text-align: right;\n",
              "    }\n",
              "</style>\n",
              "<table border=\"1\" class=\"dataframe\">\n",
              "  <thead>\n",
              "    <tr style=\"text-align: right;\">\n",
              "      <th></th>\n",
              "      <th>Home Ownership</th>\n",
              "      <th>Annual Income</th>\n",
              "      <th>Years in current job</th>\n",
              "      <th>Tax Liens</th>\n",
              "      <th>Number of Open Accounts</th>\n",
              "      <th>Years of Credit History</th>\n",
              "      <th>Maximum Open Credit</th>\n",
              "      <th>Number of Credit Problems</th>\n",
              "      <th>Months since last delinquent</th>\n",
              "      <th>Bankruptcies</th>\n",
              "      <th>Purpose</th>\n",
              "      <th>Term</th>\n",
              "      <th>Current Loan Amount</th>\n",
              "      <th>Current Credit Balance</th>\n",
              "      <th>Monthly Debt</th>\n",
              "      <th>Credit Score</th>\n",
              "      <th>Credit Default</th>\n",
              "    </tr>\n",
              "  </thead>\n",
              "  <tbody>\n",
              "    <tr>\n",
              "      <th>4729</th>\n",
              "      <td>Home Mortgage</td>\n",
              "      <td>1603372.0</td>\n",
              "      <td>10+ years</td>\n",
              "      <td>0.0</td>\n",
              "      <td>17.0</td>\n",
              "      <td>19.900000</td>\n",
              "      <td>799568.0</td>\n",
              "      <td>0.0</td>\n",
              "      <td>20.0</td>\n",
              "      <td>0.0</td>\n",
              "      <td>debt consolidation</td>\n",
              "      <td>Short Term</td>\n",
              "      <td>100000000.0</td>\n",
              "      <td>422617.0</td>\n",
              "      <td>27658.0</td>\n",
              "      <td>729.0</td>\n",
              "      <td>0</td>\n",
              "    </tr>\n",
              "    <tr>\n",
              "      <th>3859</th>\n",
              "      <td>Rent</td>\n",
              "      <td>1735061.0</td>\n",
              "      <td>10+ years</td>\n",
              "      <td>0.0</td>\n",
              "      <td>12.0</td>\n",
              "      <td>23.400000</td>\n",
              "      <td>395494.0</td>\n",
              "      <td>1.0</td>\n",
              "      <td>63.0</td>\n",
              "      <td>1.0</td>\n",
              "      <td>debt consolidation</td>\n",
              "      <td>Long Term</td>\n",
              "      <td>772706.0</td>\n",
              "      <td>151316.0</td>\n",
              "      <td>28050.0</td>\n",
              "      <td>599.0</td>\n",
              "      <td>1</td>\n",
              "    </tr>\n",
              "    <tr>\n",
              "      <th>270</th>\n",
              "      <td>Own Home</td>\n",
              "      <td>NaN</td>\n",
              "      <td>10+ years</td>\n",
              "      <td>0.0</td>\n",
              "      <td>11.0</td>\n",
              "      <td>14.000000</td>\n",
              "      <td>558250.0</td>\n",
              "      <td>0.0</td>\n",
              "      <td>NaN</td>\n",
              "      <td>0.0</td>\n",
              "      <td>debt consolidation</td>\n",
              "      <td>Short Term</td>\n",
              "      <td>129206.0</td>\n",
              "      <td>24586.0</td>\n",
              "      <td>930.0</td>\n",
              "      <td>NaN</td>\n",
              "      <td>0</td>\n",
              "    </tr>\n",
              "    <tr>\n",
              "      <th>1913</th>\n",
              "      <td>Home Mortgage</td>\n",
              "      <td>NaN</td>\n",
              "      <td>10+ years</td>\n",
              "      <td>0.0</td>\n",
              "      <td>6.0</td>\n",
              "      <td>31.700001</td>\n",
              "      <td>404338.0</td>\n",
              "      <td>1.0</td>\n",
              "      <td>NaN</td>\n",
              "      <td>1.0</td>\n",
              "      <td>debt consolidation</td>\n",
              "      <td>Short Term</td>\n",
              "      <td>441034.0</td>\n",
              "      <td>106856.0</td>\n",
              "      <td>8250.0</td>\n",
              "      <td>NaN</td>\n",
              "      <td>0</td>\n",
              "    </tr>\n",
              "    <tr>\n",
              "      <th>3428</th>\n",
              "      <td>Home Mortgage</td>\n",
              "      <td>779418.0</td>\n",
              "      <td>NaN</td>\n",
              "      <td>0.0</td>\n",
              "      <td>8.0</td>\n",
              "      <td>34.799999</td>\n",
              "      <td>242968.0</td>\n",
              "      <td>1.0</td>\n",
              "      <td>55.0</td>\n",
              "      <td>1.0</td>\n",
              "      <td>debt consolidation</td>\n",
              "      <td>Short Term</td>\n",
              "      <td>142626.0</td>\n",
              "      <td>114361.0</td>\n",
              "      <td>11107.0</td>\n",
              "      <td>668.0</td>\n",
              "      <td>0</td>\n",
              "    </tr>\n",
              "  </tbody>\n",
              "</table>\n",
              "</div>"
            ],
            "text/plain": [
              "     Home Ownership  Annual Income  ... Credit Score  Credit Default\n",
              "4729  Home Mortgage      1603372.0  ...        729.0               0\n",
              "3859           Rent      1735061.0  ...        599.0               1\n",
              "270        Own Home            NaN  ...          NaN               0\n",
              "1913  Home Mortgage            NaN  ...          NaN               0\n",
              "3428  Home Mortgage       779418.0  ...        668.0               0\n",
              "\n",
              "[5 rows x 17 columns]"
            ]
          },
          "metadata": {
            "tags": []
          },
          "execution_count": 19
        }
      ]
    },
    {
      "cell_type": "code",
      "metadata": {
        "colab": {
          "base_uri": "https://localhost:8080/",
          "height": 545
        },
        "id": "QcYwUc4YMI9c",
        "outputId": "91c6e33a-42fa-4533-8c0e-7636d24ec452"
      },
      "source": [
        "correlation = train_df.corrwith(train_df[TARGET_NAME]).sort_values(ascending=False)\n",
        "correlation.drop(TARGET_NAME, inplace=True)\n",
        "plt.figure(figsize = (14, 6))\n",
        "plt.bar(correlation.index, correlation)\n",
        "plt.xticks(rotation='90')\n",
        "plt.xlabel('Features', fontsize=15)\n",
        "plt.ylabel('Correlation', fontsize=15)\n",
        "plt.title('Feature correlation', fontsize=15)\n",
        "plt.show()"
      ],
      "execution_count": 20,
      "outputs": [
        {
          "output_type": "display_data",
          "data": {
            "image/png": "[encoded data removed]",
            "text/plain": [
              "<Figure size 1008x432 with 1 Axes>"
            ]
          },
          "metadata": {
            "tags": [],
            "needs_background": "light"
          }
        }
      ]
    },
    {
      "cell_type": "code",
      "metadata": {
        "colab": {
          "base_uri": "https://localhost:8080/",
          "height": 498
        },
        "id": "s7cR8sGe_dRL",
        "outputId": "127b1c48-ca4d-4a7a-84ab-81bba70e3d09"
      },
      "source": [
        "BASE_FEATURE_NAMES = train_df.columns.drop(TARGET_NAME).tolist()\n",
        "corr_with_target = train_df[BASE_FEATURE_NAMES + [TARGET_NAME]].corr().iloc[:-1, -1].sort_values(ascending=False)\n",
        "cols = list(train_df.columns)\n",
        "cols.remove(TARGET_NAME)\n",
        "corr_with_target = train_df[cols + [TARGET_NAME]].corr().iloc[:-1, -1].sort_values(ascending=False)\n",
        "plt.figure(figsize=(10, 8))\n",
        "sns.barplot(x=corr_with_target.values, y=corr_with_target.index)\n",
        "plt.title('Correlation with target variable')\n",
        "plt.show()"
      ],
      "execution_count": 21,
      "outputs": [
        {
          "output_type": "display_data",
          "data": {
            "image/png": "[encoded data removed]",
            "text/plain": [
              "<Figure size 720x576 with 1 Axes>"
            ]
          },
          "metadata": {
            "tags": [],
            "needs_background": "light"
          }
        }
      ]
    },
    {
      "cell_type": "code",
      "metadata": {
        "id": "1VKf7DK-0Zyw",
        "colab": {
          "base_uri": "https://localhost:8080/",
          "height": 1000
        },
        "outputId": "9906b349-12a1-4974-b98d-d54a359c1512"
      },
      "source": [
        "train_df.hist(figsize=(16,16), bins=50, grid=False)"
      ],
      "execution_count": 22,
      "outputs": [
        {
          "output_type": "execute_result",
          "data": {
            "text/plain": [
              "array([[<matplotlib.axes._subplots.AxesSubplot object at 0x7f0538fec450>,\n",
              "        <matplotlib.axes._subplots.AxesSubplot object at 0x7f0538fc0b10>,\n",
              "        <matplotlib.axes._subplots.AxesSubplot object at 0x7f0538f0e690>,\n",
              "        <matplotlib.axes._subplots.AxesSubplot object at 0x7f0538f44d10>],\n",
              "       [<matplotlib.axes._subplots.AxesSubplot object at 0x7f0538f063d0>,\n",
              "        <matplotlib.axes._subplots.AxesSubplot object at 0x7f0538ebac90>,\n",
              "        <matplotlib.axes._subplots.AxesSubplot object at 0x7f0538e804d0>,\n",
              "        <matplotlib.axes._subplots.AxesSubplot object at 0x7f0538e3bb10>],\n",
              "       [<matplotlib.axes._subplots.AxesSubplot object at 0x7f0538e3bb50>,\n",
              "        <matplotlib.axes._subplots.AxesSubplot object at 0x7f0538dfc490>,\n",
              "        <matplotlib.axes._subplots.AxesSubplot object at 0x7f0538d7b250>,\n",
              "        <matplotlib.axes._subplots.AxesSubplot object at 0x7f0538d30550>],\n",
              "       [<matplotlib.axes._subplots.AxesSubplot object at 0x7f0538ce5b10>,\n",
              "        <matplotlib.axes._subplots.AxesSubplot object at 0x7f0538ca4150>,\n",
              "        <matplotlib.axes._subplots.AxesSubplot object at 0x7f0538c587d0>,\n",
              "        <matplotlib.axes._subplots.AxesSubplot object at 0x7f0538c10e50>]],\n",
              "      dtype=object)"
            ]
          },
          "metadata": {
            "tags": []
          },
          "execution_count": 22
        },
        {
          "output_type": "display_data",
          "data": {
            "image/png": "[encoded data removed]",
            "text/plain": [
              "<Figure size 1152x1152 with 16 Axes>"
            ]
          },
          "metadata": {
            "tags": [],
            "needs_background": "light"
          }
        }
      ]
    },
    {
      "cell_type": "markdown",
      "metadata": {
        "id": "Kje1JpB0zJAq"
      },
      "source": [
        "**EDA** **Numeric features**"
      ]
    },
    {
      "cell_type": "markdown",
      "metadata": {
        "id": "MLNOP1iHMs7T"
      },
      "source": [
        "**2. Annual Income**"
      ]
    },
    {
      "cell_type": "code",
      "metadata": {
        "colab": {
          "base_uri": "https://localhost:8080/",
          "height": 651
        },
        "id": "O3O7cgxbMsZ7",
        "outputId": "a1d17880-ae4a-4f99-b06c-c2c4d31bda9e"
      },
      "source": [
        "var = 'Annual Income'\n",
        "train_df[var].plot.hist(bins=100), train_df[var].describe(), train_df[var].isnull().sum(), train_df[var].value_counts().sort_values(ascending=False)"
      ],
      "execution_count": 23,
      "outputs": [
        {
          "output_type": "execute_result",
          "data": {
            "text/plain": [
              "(<matplotlib.axes._subplots.AxesSubplot at 0x7f053833b790>,\n",
              " count    5.943000e+03\n",
              " mean     1.366390e+06\n",
              " std      8.453384e+05\n",
              " min      1.645970e+05\n",
              " 25%      8.443410e+05\n",
              " 50%      1.168386e+06\n",
              " 75%      1.640137e+06\n",
              " max      1.014934e+07\n",
              " Name: Annual Income, dtype: float64,\n",
              " 1557,\n",
              " 1161660.0    4\n",
              " 1058376.0    4\n",
              " 1338113.0    4\n",
              " 1043651.0    4\n",
              " 969475.0     4\n",
              "             ..\n",
              " 1539152.0    1\n",
              " 1177411.0    1\n",
              " 266000.0     1\n",
              " 785954.0     1\n",
              " 2083825.0    1\n",
              " Name: Annual Income, Length: 5478, dtype: int64)"
            ]
          },
          "metadata": {
            "tags": []
          },
          "execution_count": 23
        },
        {
          "output_type": "display_data",
          "data": {
            "image/png": "[encoded data removed]",
            "text/plain": [
              "<Figure size 432x288 with 1 Axes>"
            ]
          },
          "metadata": {
            "tags": [],
            "needs_background": "light"
          }
        }
      ]
    },
    {
      "cell_type": "code",
      "metadata": {
        "colab": {
          "base_uri": "https://localhost:8080/",
          "height": 512
        },
        "id": "WZ_pvZEIzQ6I",
        "outputId": "24198030-b1fc-40e4-9b22-c58bbba200e0"
      },
      "source": [
        "hst(train_df, var)"
      ],
      "execution_count": 24,
      "outputs": [
        {
          "output_type": "display_data",
          "data": {
            "image/png": "[encoded data removed]",
            "text/plain": [
              "<Figure size 1440x576 with 2 Axes>"
            ]
          },
          "metadata": {
            "tags": [],
            "needs_background": "light"
          }
        }
      ]
    },
    {
      "cell_type": "code",
      "metadata": {
        "id": "03DhmqHRT538",
        "colab": {
          "base_uri": "https://localhost:8080/",
          "height": 343
        },
        "outputId": "5c00c3a5-c6f9-4657-8375-7f8506794d96"
      },
      "source": [
        "display_stats(train_df, var)"
      ],
      "execution_count": 25,
      "outputs": [
        {
          "output_type": "stream",
          "text": [
            "mean: 1366389.75\n",
            "median: 1168386.0\n",
            "mode: 969475.0\n"
          ],
          "name": "stdout"
        },
        {
          "output_type": "display_data",
          "data": {
            "image/png": "[encoded data removed]",
            "text/plain": [
              "<Figure size 576x288 with 1 Axes>"
            ]
          },
          "metadata": {
            "tags": [],
            "needs_background": "light"
          }
        }
      ]
    },
    {
      "cell_type": "code",
      "metadata": {
        "id": "xN6S3x7LEiUU"
      },
      "source": [
        "train_df[var+\"cliped\"] = np.clip(train_df[var], a_max=5000000, a_min=train_df[var].min())\n",
        "# to remove outliers at right"
      ],
      "execution_count": 26,
      "outputs": []
    },
    {
      "cell_type": "code",
      "metadata": {
        "colab": {
          "base_uri": "https://localhost:8080/",
          "height": 236
        },
        "id": "ZFCbeA41Toy-",
        "outputId": "63a01788-c922-4d40-aafb-c2189fdf31fb"
      },
      "source": [
        "data = pd.concat([train_df[TARGET_NAME], train_df[var]], axis=1)\n",
        "f, ax = plt.subplots(figsize=(32, 3))\n",
        "fig = sns.boxplot(x=TARGET_NAME, y=var, data=data)"
      ],
      "execution_count": 27,
      "outputs": [
        {
          "output_type": "display_data",
          "data": {
            "image/png": "[encoded data removed]",
            "text/plain": [
              "<Figure size 2304x216 with 1 Axes>"
            ]
          },
          "metadata": {
            "tags": [],
            "needs_background": "light"
          }
        }
      ]
    },
    {
      "cell_type": "markdown",
      "metadata": {
        "id": "dpR7wVUmR9BZ"
      },
      "source": [
        "**12.  Current Loan Amount**"
      ]
    },
    {
      "cell_type": "code",
      "metadata": {
        "colab": {
          "base_uri": "https://localhost:8080/",
          "height": 638
        },
        "id": "XqCe3GySR8QX",
        "outputId": "4b468dba-bae2-4da3-bb92-b4dcedb87d74"
      },
      "source": [
        "var = 'Current Loan Amount'\n",
        "ukrupn = round(train_df[var]/10000, 0)\n",
        "ukrupn.plot.hist(bins=30), train_df[var].describe(), train_df[var].isnull().sum(), train_df[var].value_counts().sort_values(ascending=False)\n",
        "# 100000000.0    870 looks like cutted"
      ],
      "execution_count": 50,
      "outputs": [
        {
          "output_type": "execute_result",
          "data": {
            "text/plain": [
              "(<matplotlib.axes._subplots.AxesSubplot at 0x7f05380f8350>,\n",
              " count         7500.0\n",
              " mean      11873135.0\n",
              " std       31926302.0\n",
              " min          11242.0\n",
              " 25%         180169.0\n",
              " 50%         309573.0\n",
              " 75%         519882.0\n",
              " max      100000000.0\n",
              " Name: Current Loan Amount, dtype: float64,\n",
              " 0,\n",
              " 100000000.0    870\n",
              " 89298.0          6\n",
              " 218064.0         6\n",
              " 216106.0         5\n",
              " 270226.0         5\n",
              "               ... \n",
              " 200640.0         1\n",
              " 290642.0         1\n",
              " 367334.0         1\n",
              " 186846.0         1\n",
              " 264616.0         1\n",
              " Name: Current Loan Amount, Length: 5386, dtype: int64)"
            ]
          },
          "metadata": {
            "tags": []
          },
          "execution_count": 50
        },
        {
          "output_type": "display_data",
          "data": {
            "image/png": "[encoded data removed]",
            "text/plain": [
              "<Figure size 432x288 with 1 Axes>"
            ]
          },
          "metadata": {
            "tags": [],
            "needs_background": "light"
          }
        }
      ]
    },
    {
      "cell_type": "code",
      "metadata": {
        "colab": {
          "base_uri": "https://localhost:8080/",
          "height": 343
        },
        "id": "HbxsOZyxTAu3",
        "outputId": "3a33f3fb-b34a-4d20-e4d7-7ffcd3f35b31"
      },
      "source": [
        "display_stats(train_df, var)"
      ],
      "execution_count": 29,
      "outputs": [
        {
          "output_type": "stream",
          "text": [
            "mean: 11873135.0\n",
            "median: 309573.0\n",
            "mode: 100000000.0\n"
          ],
          "name": "stdout"
        },
        {
          "output_type": "display_data",
          "data": {
            "image/png": "[encoded data removed]",
            "text/plain": [
              "<Figure size 576x288 with 1 Axes>"
            ]
          },
          "metadata": {
            "tags": [],
            "needs_background": "light"
          }
        }
      ]
    },
    {
      "cell_type": "markdown",
      "metadata": {
        "id": "XdxfAoaw3UQ_"
      },
      "source": [
        "**6. Maximum Open Credit**"
      ]
    },
    {
      "cell_type": "code",
      "metadata": {
        "colab": {
          "base_uri": "https://localhost:8080/",
          "height": 651
        },
        "id": "O6rUkX9D3OFT",
        "outputId": "bc2a03d5-c552-4e5c-ef79-d92ca4357d5a"
      },
      "source": [
        "var = 'Maximum Open Credit'\n",
        "train_df[var].plot.hist(bins=3), train_df[var].describe(), train_df[var].isnull().sum(), train_df[var].value_counts()"
      ],
      "execution_count": 30,
      "outputs": [
        {
          "output_type": "execute_result",
          "data": {
            "text/plain": [
              "(<matplotlib.axes._subplots.AxesSubplot at 0x7f0537af2ad0>,\n",
              " count    7.500000e+03\n",
              " mean     9.451526e+05\n",
              " std      1.602614e+07\n",
              " min      0.000000e+00\n",
              " 25%      2.792295e+05\n",
              " 50%      4.781590e+05\n",
              " 75%      7.935015e+05\n",
              " max      1.304726e+09\n",
              " Name: Maximum Open Credit, dtype: float64,\n",
              " 0,\n",
              " 0.0          65\n",
              " 319110.0      5\n",
              " 334796.0      3\n",
              " 607046.0      3\n",
              " 294030.0      3\n",
              "              ..\n",
              " 534600.0      1\n",
              " 1026124.0     1\n",
              " 77066.0       1\n",
              " 780164.0      1\n",
              " 350768.0      1\n",
              " Name: Maximum Open Credit, Length: 6963, dtype: int64)"
            ]
          },
          "metadata": {
            "tags": []
          },
          "execution_count": 30
        },
        {
          "output_type": "display_data",
          "data": {
            "image/png": "[encoded data removed]",
            "text/plain": [
              "<Figure size 432x288 with 1 Axes>"
            ]
          },
          "metadata": {
            "tags": [],
            "needs_background": "light"
          }
        }
      ]
    },
    {
      "cell_type": "markdown",
      "metadata": {
        "id": "j4yFMS3EV72O"
      },
      "source": [
        "**15. Credit Score**"
      ]
    },
    {
      "cell_type": "code",
      "metadata": {
        "colab": {
          "base_uri": "https://localhost:8080/",
          "height": 443
        },
        "id": "xL8TpUvVV9eu",
        "outputId": "0e39e9e3-a975-4171-c9bf-75d6c2b49717"
      },
      "source": [
        "var = 'Credit Score'\n",
        "train_df[var].plot.hist(), train_df[var].describe(), train_df[var].isnull().sum()"
      ],
      "execution_count": 31,
      "outputs": [
        {
          "output_type": "execute_result",
          "data": {
            "text/plain": [
              "(<matplotlib.axes._subplots.AxesSubplot at 0x7f0538834f10>,\n",
              " count    5943.000000\n",
              " mean     1151.087524\n",
              " std      1604.447510\n",
              " min       585.000000\n",
              " 25%       711.000000\n",
              " 50%       731.000000\n",
              " 75%       743.000000\n",
              " max      7510.000000\n",
              " Name: Credit Score, dtype: float64,\n",
              " 1557)"
            ]
          },
          "metadata": {
            "tags": []
          },
          "execution_count": 31
        },
        {
          "output_type": "display_data",
          "data": {
            "image/png": "[encoded data removed]",
            "text/plain": [
              "<Figure size 432x288 with 1 Axes>"
            ]
          },
          "metadata": {
            "tags": [],
            "needs_background": "light"
          }
        }
      ]
    },
    {
      "cell_type": "code",
      "metadata": {
        "colab": {
          "base_uri": "https://localhost:8080/",
          "height": 391
        },
        "id": "BzgWi88-_Rd7",
        "outputId": "c1a9b3da-1534-4d6c-f979-e78005d0a8d7"
      },
      "source": [
        "train_df.loc[train_df[var]>850]\n",
        "# For both the VantageScore and base FICO® score models, the lowest score is 300 and the highest credit score is 850. But even if you have pretty good credit habits, don't be surprised if you check your scores and find that you're below 850.\n",
        "# The best-known range of FICO scores is 300 to 850. Anything above 700 is generally considered to be good. FICO also offers industry-specific FICO scores, such as for credit cards or auto loans, which can range from 250 to 900."
      ],
      "execution_count": 32,
      "outputs": [
        {
          "output_type": "execute_result",
          "data": {
            "text/html": [
              "<div>\n",
              "<style scoped>\n",
              "    .dataframe tbody tr th:only-of-type {\n",
              "        vertical-align: middle;\n",
              "    }\n",
              "\n",
              "    .dataframe tbody tr th {\n",
              "        vertical-align: top;\n",
              "    }\n",
              "\n",
              "    .dataframe thead th {\n",
              "        text-align: right;\n",
              "    }\n",
              "</style>\n",
              "<table border=\"1\" class=\"dataframe\">\n",
              "  <thead>\n",
              "    <tr style=\"text-align: right;\">\n",
              "      <th></th>\n",
              "      <th>Home Ownership</th>\n",
              "      <th>Annual Income</th>\n",
              "      <th>Years in current job</th>\n",
              "      <th>Tax Liens</th>\n",
              "      <th>Number of Open Accounts</th>\n",
              "      <th>Years of Credit History</th>\n",
              "      <th>Maximum Open Credit</th>\n",
              "      <th>Number of Credit Problems</th>\n",
              "      <th>Months since last delinquent</th>\n",
              "      <th>Bankruptcies</th>\n",
              "      <th>Purpose</th>\n",
              "      <th>Term</th>\n",
              "      <th>Current Loan Amount</th>\n",
              "      <th>Current Credit Balance</th>\n",
              "      <th>Monthly Debt</th>\n",
              "      <th>Credit Score</th>\n",
              "      <th>Credit Default</th>\n",
              "      <th>Annual Incomecliped</th>\n",
              "    </tr>\n",
              "  </thead>\n",
              "  <tbody>\n",
              "    <tr>\n",
              "      <th>69</th>\n",
              "      <td>Home Mortgage</td>\n",
              "      <td>1408527.0</td>\n",
              "      <td>2 years</td>\n",
              "      <td>0.0</td>\n",
              "      <td>12.0</td>\n",
              "      <td>17.500000</td>\n",
              "      <td>700062.0</td>\n",
              "      <td>0.0</td>\n",
              "      <td>21.0</td>\n",
              "      <td>0.0</td>\n",
              "      <td>other</td>\n",
              "      <td>Long Term</td>\n",
              "      <td>525998.0</td>\n",
              "      <td>174135.0</td>\n",
              "      <td>9320.0</td>\n",
              "      <td>6470.0</td>\n",
              "      <td>1</td>\n",
              "      <td>1408527.0</td>\n",
              "    </tr>\n",
              "    <tr>\n",
              "      <th>87</th>\n",
              "      <td>Home Mortgage</td>\n",
              "      <td>1533566.0</td>\n",
              "      <td>7 years</td>\n",
              "      <td>0.0</td>\n",
              "      <td>11.0</td>\n",
              "      <td>14.800000</td>\n",
              "      <td>715462.0</td>\n",
              "      <td>0.0</td>\n",
              "      <td>19.0</td>\n",
              "      <td>0.0</td>\n",
              "      <td>debt consolidation</td>\n",
              "      <td>Short Term</td>\n",
              "      <td>210826.0</td>\n",
              "      <td>285475.0</td>\n",
              "      <td>18147.0</td>\n",
              "      <td>7440.0</td>\n",
              "      <td>1</td>\n",
              "      <td>1533566.0</td>\n",
              "    </tr>\n",
              "    <tr>\n",
              "      <th>94</th>\n",
              "      <td>Rent</td>\n",
              "      <td>1049294.0</td>\n",
              "      <td>3 years</td>\n",
              "      <td>0.0</td>\n",
              "      <td>5.0</td>\n",
              "      <td>6.100000</td>\n",
              "      <td>249810.0</td>\n",
              "      <td>0.0</td>\n",
              "      <td>NaN</td>\n",
              "      <td>0.0</td>\n",
              "      <td>business loan</td>\n",
              "      <td>Short Term</td>\n",
              "      <td>337502.0</td>\n",
              "      <td>119529.0</td>\n",
              "      <td>15215.0</td>\n",
              "      <td>7010.0</td>\n",
              "      <td>1</td>\n",
              "      <td>1049294.0</td>\n",
              "    </tr>\n",
              "    <tr>\n",
              "      <th>96</th>\n",
              "      <td>Rent</td>\n",
              "      <td>757568.0</td>\n",
              "      <td>5 years</td>\n",
              "      <td>0.0</td>\n",
              "      <td>13.0</td>\n",
              "      <td>11.400000</td>\n",
              "      <td>383548.0</td>\n",
              "      <td>0.0</td>\n",
              "      <td>NaN</td>\n",
              "      <td>0.0</td>\n",
              "      <td>debt consolidation</td>\n",
              "      <td>Short Term</td>\n",
              "      <td>210518.0</td>\n",
              "      <td>276583.0</td>\n",
              "      <td>11553.0</td>\n",
              "      <td>7320.0</td>\n",
              "      <td>1</td>\n",
              "      <td>757568.0</td>\n",
              "    </tr>\n",
              "    <tr>\n",
              "      <th>116</th>\n",
              "      <td>Home Mortgage</td>\n",
              "      <td>1039984.0</td>\n",
              "      <td>NaN</td>\n",
              "      <td>0.0</td>\n",
              "      <td>10.0</td>\n",
              "      <td>23.799999</td>\n",
              "      <td>147950.0</td>\n",
              "      <td>0.0</td>\n",
              "      <td>63.0</td>\n",
              "      <td>0.0</td>\n",
              "      <td>debt consolidation</td>\n",
              "      <td>Short Term</td>\n",
              "      <td>224246.0</td>\n",
              "      <td>95456.0</td>\n",
              "      <td>13780.0</td>\n",
              "      <td>7390.0</td>\n",
              "      <td>1</td>\n",
              "      <td>1039984.0</td>\n",
              "    </tr>\n",
              "    <tr>\n",
              "      <th>...</th>\n",
              "      <td>...</td>\n",
              "      <td>...</td>\n",
              "      <td>...</td>\n",
              "      <td>...</td>\n",
              "      <td>...</td>\n",
              "      <td>...</td>\n",
              "      <td>...</td>\n",
              "      <td>...</td>\n",
              "      <td>...</td>\n",
              "      <td>...</td>\n",
              "      <td>...</td>\n",
              "      <td>...</td>\n",
              "      <td>...</td>\n",
              "      <td>...</td>\n",
              "      <td>...</td>\n",
              "      <td>...</td>\n",
              "      <td>...</td>\n",
              "      <td>...</td>\n",
              "    </tr>\n",
              "    <tr>\n",
              "      <th>7422</th>\n",
              "      <td>Rent</td>\n",
              "      <td>694868.0</td>\n",
              "      <td>1 year</td>\n",
              "      <td>0.0</td>\n",
              "      <td>4.0</td>\n",
              "      <td>7.800000</td>\n",
              "      <td>143066.0</td>\n",
              "      <td>0.0</td>\n",
              "      <td>NaN</td>\n",
              "      <td>0.0</td>\n",
              "      <td>debt consolidation</td>\n",
              "      <td>Long Term</td>\n",
              "      <td>244178.0</td>\n",
              "      <td>122075.0</td>\n",
              "      <td>4268.0</td>\n",
              "      <td>6690.0</td>\n",
              "      <td>1</td>\n",
              "      <td>694868.0</td>\n",
              "    </tr>\n",
              "    <tr>\n",
              "      <th>7433</th>\n",
              "      <td>Rent</td>\n",
              "      <td>2011758.0</td>\n",
              "      <td>&lt; 1 year</td>\n",
              "      <td>0.0</td>\n",
              "      <td>4.0</td>\n",
              "      <td>14.900000</td>\n",
              "      <td>22176.0</td>\n",
              "      <td>0.0</td>\n",
              "      <td>43.0</td>\n",
              "      <td>0.0</td>\n",
              "      <td>buy a car</td>\n",
              "      <td>Long Term</td>\n",
              "      <td>106480.0</td>\n",
              "      <td>18791.0</td>\n",
              "      <td>12590.0</td>\n",
              "      <td>6060.0</td>\n",
              "      <td>1</td>\n",
              "      <td>2011758.0</td>\n",
              "    </tr>\n",
              "    <tr>\n",
              "      <th>7450</th>\n",
              "      <td>Home Mortgage</td>\n",
              "      <td>1432277.0</td>\n",
              "      <td>10+ years</td>\n",
              "      <td>0.0</td>\n",
              "      <td>16.0</td>\n",
              "      <td>22.799999</td>\n",
              "      <td>825176.0</td>\n",
              "      <td>0.0</td>\n",
              "      <td>NaN</td>\n",
              "      <td>0.0</td>\n",
              "      <td>debt consolidation</td>\n",
              "      <td>Short Term</td>\n",
              "      <td>187924.0</td>\n",
              "      <td>458242.0</td>\n",
              "      <td>27094.0</td>\n",
              "      <td>7290.0</td>\n",
              "      <td>1</td>\n",
              "      <td>1432277.0</td>\n",
              "    </tr>\n",
              "    <tr>\n",
              "      <th>7460</th>\n",
              "      <td>Rent</td>\n",
              "      <td>769462.0</td>\n",
              "      <td>5 years</td>\n",
              "      <td>0.0</td>\n",
              "      <td>8.0</td>\n",
              "      <td>17.000000</td>\n",
              "      <td>313786.0</td>\n",
              "      <td>0.0</td>\n",
              "      <td>80.0</td>\n",
              "      <td>0.0</td>\n",
              "      <td>debt consolidation</td>\n",
              "      <td>Short Term</td>\n",
              "      <td>109186.0</td>\n",
              "      <td>45524.0</td>\n",
              "      <td>4585.0</td>\n",
              "      <td>7470.0</td>\n",
              "      <td>1</td>\n",
              "      <td>769462.0</td>\n",
              "    </tr>\n",
              "    <tr>\n",
              "      <th>7496</th>\n",
              "      <td>Home Mortgage</td>\n",
              "      <td>1533984.0</td>\n",
              "      <td>1 year</td>\n",
              "      <td>0.0</td>\n",
              "      <td>10.0</td>\n",
              "      <td>26.500000</td>\n",
              "      <td>686312.0</td>\n",
              "      <td>0.0</td>\n",
              "      <td>43.0</td>\n",
              "      <td>0.0</td>\n",
              "      <td>debt consolidation</td>\n",
              "      <td>Long Term</td>\n",
              "      <td>444048.0</td>\n",
              "      <td>456399.0</td>\n",
              "      <td>12783.0</td>\n",
              "      <td>7410.0</td>\n",
              "      <td>1</td>\n",
              "      <td>1533984.0</td>\n",
              "    </tr>\n",
              "  </tbody>\n",
              "</table>\n",
              "<p>400 rows × 18 columns</p>\n",
              "</div>"
            ],
            "text/plain": [
              "     Home Ownership  Annual Income  ... Credit Default  Annual Incomecliped\n",
              "69    Home Mortgage      1408527.0  ...              1            1408527.0\n",
              "87    Home Mortgage      1533566.0  ...              1            1533566.0\n",
              "94             Rent      1049294.0  ...              1            1049294.0\n",
              "96             Rent       757568.0  ...              1             757568.0\n",
              "116   Home Mortgage      1039984.0  ...              1            1039984.0\n",
              "...             ...            ...  ...            ...                  ...\n",
              "7422           Rent       694868.0  ...              1             694868.0\n",
              "7433           Rent      2011758.0  ...              1            2011758.0\n",
              "7450  Home Mortgage      1432277.0  ...              1            1432277.0\n",
              "7460           Rent       769462.0  ...              1             769462.0\n",
              "7496  Home Mortgage      1533984.0  ...              1            1533984.0\n",
              "\n",
              "[400 rows x 18 columns]"
            ]
          },
          "metadata": {
            "tags": []
          },
          "execution_count": 32
        }
      ]
    },
    {
      "cell_type": "code",
      "metadata": {
        "colab": {
          "base_uri": "https://localhost:8080/",
          "height": 343
        },
        "id": "xM8SrWoNZfPV",
        "outputId": "6d99cd16-0ea3-49ee-f729-6ee08244d8cb"
      },
      "source": [
        "display_stats(train_df, var)"
      ],
      "execution_count": 33,
      "outputs": [
        {
          "output_type": "stream",
          "text": [
            "mean: 1151.09\n",
            "median: 731.0\n",
            "mode: 740.0\n"
          ],
          "name": "stdout"
        },
        {
          "output_type": "display_data",
          "data": {
            "image/png": "[encoded data removed]",
            "text/plain": [
              "<Figure size 576x288 with 1 Axes>"
            ]
          },
          "metadata": {
            "tags": [],
            "needs_background": "light"
          }
        }
      ]
    },
    {
      "cell_type": "markdown",
      "metadata": {
        "id": "0BfSOoruNjD9"
      },
      "source": [
        "**3. Years in current job**"
      ]
    },
    {
      "cell_type": "code",
      "metadata": {
        "colab": {
          "base_uri": "https://localhost:8080/",
          "height": 346
        },
        "id": "mD88nSCLUKtg",
        "outputId": "f173abcc-851d-42c1-beca-30d1e7c4ac9a"
      },
      "source": [
        "var = 'Years in current job'\n",
        "train_df[var].hist(), train_df[var].describe(), train_df[var].isnull().sum()"
      ],
      "execution_count": 34,
      "outputs": [
        {
          "output_type": "execute_result",
          "data": {
            "text/plain": [
              "(<matplotlib.axes._subplots.AxesSubplot at 0x7f053873c810>, count          7129\n",
              " unique           11\n",
              " top       10+ years\n",
              " freq           2332\n",
              " Name: Years in current job, dtype: object, 371)"
            ]
          },
          "metadata": {
            "tags": []
          },
          "execution_count": 34
        },
        {
          "output_type": "display_data",
          "data": {
            "image/png": "[encoded data removed]",
            "text/plain": [
              "<Figure size 432x288 with 1 Axes>"
            ]
          },
          "metadata": {
            "tags": [],
            "needs_background": "light"
          }
        }
      ]
    },
    {
      "cell_type": "markdown",
      "metadata": {
        "id": "sLpa4y4Q8VI7"
      },
      "source": [
        "**1. Home Ownership**"
      ]
    },
    {
      "cell_type": "code",
      "metadata": {
        "colab": {
          "base_uri": "https://localhost:8080/",
          "height": 658
        },
        "id": "WeSnkNI98mwV",
        "outputId": "b97f9c51-79a3-430c-d98b-4797ba26e68d"
      },
      "source": [
        "var = 'Home Ownership'\n",
        "category_target_plot(var), train_df[var].describe(), train_df[var].value_counts(), train_df[var].isnull().sum()"
      ],
      "execution_count": 35,
      "outputs": [
        {
          "output_type": "display_data",
          "data": {
            "image/png": "[encoded data removed]",
            "text/plain": [
              "<Figure size 720x576 with 1 Axes>"
            ]
          },
          "metadata": {
            "tags": [],
            "needs_background": "light"
          }
        },
        {
          "output_type": "execute_result",
          "data": {
            "text/plain": [
              "(None, count              7500\n",
              " unique                4\n",
              " top       Home Mortgage\n",
              " freq               3637\n",
              " Name: Home Ownership, dtype: object, Home Mortgage    3637\n",
              " Rent             3204\n",
              " Own Home          647\n",
              " Have Mortgage      12\n",
              " Name: Home Ownership, dtype: int64, 0)"
            ]
          },
          "metadata": {
            "tags": []
          },
          "execution_count": 35
        }
      ]
    },
    {
      "cell_type": "markdown",
      "metadata": {
        "id": "pusdGZOyUpjx"
      },
      "source": [
        "**4. Tax Liens**"
      ]
    },
    {
      "cell_type": "code",
      "metadata": {
        "colab": {
          "base_uri": "https://localhost:8080/",
          "height": 541
        },
        "id": "k4C_D8KhmJMV",
        "outputId": "55f19fef-364c-4a22-aeae-1a960d473646"
      },
      "source": [
        "var = 'Tax Liens'\n",
        "train_df[var].plot.hist(), \n",
        "train_df[var].describe(), train_df[var].isnull().sum(), train_df[var].value_counts()"
      ],
      "execution_count": 36,
      "outputs": [
        {
          "output_type": "execute_result",
          "data": {
            "text/plain": [
              "(count    7500.000000\n",
              " mean        0.030133\n",
              " std         0.271613\n",
              " min         0.000000\n",
              " 25%         0.000000\n",
              " 50%         0.000000\n",
              " 75%         0.000000\n",
              " max         7.000000\n",
              " Name: Tax Liens, dtype: float64, 0, 0.0    7366\n",
              " 1.0      83\n",
              " 2.0      30\n",
              " 3.0      10\n",
              " 4.0       6\n",
              " 5.0       2\n",
              " 6.0       2\n",
              " 7.0       1\n",
              " Name: Tax Liens, dtype: int64)"
            ]
          },
          "metadata": {
            "tags": []
          },
          "execution_count": 36
        },
        {
          "output_type": "display_data",
          "data": {
            "image/png": "[encoded data removed]",
            "text/plain": [
              "<Figure size 432x288 with 1 Axes>"
            ]
          },
          "metadata": {
            "tags": [],
            "needs_background": "light"
          }
        }
      ]
    },
    {
      "cell_type": "code",
      "metadata": {
        "colab": {
          "base_uri": "https://localhost:8080/",
          "height": 513
        },
        "id": "DRMfMssqWKDh",
        "outputId": "6ec35b8d-0c11-41d1-ed4d-5930ad52418f"
      },
      "source": [
        "plt.figure(figsize=(10, 8))\n",
        "sns.pointplot(x=var, y=TARGET_NAME, data=train_df, capsize=.1,)"
      ],
      "execution_count": 37,
      "outputs": [
        {
          "output_type": "execute_result",
          "data": {
            "text/plain": [
              "<matplotlib.axes._subplots.AxesSubplot at 0x7f0537a11210>"
            ]
          },
          "metadata": {
            "tags": []
          },
          "execution_count": 37
        },
        {
          "output_type": "display_data",
          "data": {
            "image/png": "[encoded data removed]",
            "text/plain": [
              "<Figure size 720x576 with 1 Axes>"
            ]
          },
          "metadata": {
            "tags": [],
            "needs_background": "light"
          }
        }
      ]
    },
    {
      "cell_type": "code",
      "metadata": {
        "colab": {
          "base_uri": "https://localhost:8080/",
          "height": 856
        },
        "id": "5D7dW3fwYC6H",
        "outputId": "65fab299-f565-48a2-ae8e-2ceb32f17f42"
      },
      "source": [
        "category_target_plot(var), display_stats(train_df, var)"
      ],
      "execution_count": 39,
      "outputs": [
        {
          "output_type": "display_data",
          "data": {
            "image/png": "[encoded data removed]",
            "text/plain": [
              "<Figure size 720x576 with 1 Axes>"
            ]
          },
          "metadata": {
            "tags": [],
            "needs_background": "light"
          }
        },
        {
          "output_type": "stream",
          "text": [
            "mean: 0.03\n",
            "median: 0.0\n",
            "mode: 0.0\n"
          ],
          "name": "stdout"
        },
        {
          "output_type": "display_data",
          "data": {
            "image/png": "[encoded data removed]",
            "text/plain": [
              "<Figure size 576x288 with 1 Axes>"
            ]
          },
          "metadata": {
            "tags": [],
            "needs_background": "light"
          }
        },
        {
          "output_type": "execute_result",
          "data": {
            "text/plain": [
              "(None, None)"
            ]
          },
          "metadata": {
            "tags": []
          },
          "execution_count": 39
        }
      ]
    },
    {
      "cell_type": "markdown",
      "metadata": {
        "id": "hME3SleaW5Xd"
      },
      "source": [
        "**7.   Number of Credit Problems**"
      ]
    },
    {
      "cell_type": "code",
      "metadata": {
        "colab": {
          "base_uri": "https://localhost:8080/",
          "height": 658
        },
        "id": "T3e0C6S1W06N",
        "outputId": "4128288f-5a29-4359-afff-c6765eec6499"
      },
      "source": [
        "var = 'Number of Credit Problems'\n",
        "train_df[var].describe(),  train_df[var].isnull().sum(), category_target_plot(var)"
      ],
      "execution_count": 40,
      "outputs": [
        {
          "output_type": "display_data",
          "data": {
            "image/png": "[encoded data removed]",
            "text/plain": [
              "<Figure size 720x576 with 1 Axes>"
            ]
          },
          "metadata": {
            "tags": [],
            "needs_background": "light"
          }
        },
        {
          "output_type": "execute_result",
          "data": {
            "text/plain": [
              "(count    7500.0000\n",
              " mean        0.1700\n",
              " std         0.4986\n",
              " min         0.0000\n",
              " 25%         0.0000\n",
              " 50%         0.0000\n",
              " 75%         0.0000\n",
              " max         7.0000\n",
              " Name: Number of Credit Problems, dtype: float64, 0, None)"
            ]
          },
          "metadata": {
            "tags": []
          },
          "execution_count": 40
        }
      ]
    },
    {
      "cell_type": "code",
      "metadata": {
        "colab": {
          "base_uri": "https://localhost:8080/",
          "height": 295
        },
        "id": "yh3z5q2Vzy_s",
        "outputId": "2c73bc31-6557-4cf7-e12c-fba303139699"
      },
      "source": [
        "sns.pointplot(x=var, y=TARGET_NAME, data=train_df, capsize=.1,)"
      ],
      "execution_count": 41,
      "outputs": [
        {
          "output_type": "execute_result",
          "data": {
            "text/plain": [
              "<matplotlib.axes._subplots.AxesSubplot at 0x7f053773c150>"
            ]
          },
          "metadata": {
            "tags": []
          },
          "execution_count": 41
        },
        {
          "output_type": "display_data",
          "data": {
            "image/png": "[encoded data removed]",
            "text/plain": [
              "<Figure size 432x288 with 1 Axes>"
            ]
          },
          "metadata": {
            "tags": [],
            "needs_background": "light"
          }
        }
      ]
    },
    {
      "cell_type": "markdown",
      "metadata": {
        "id": "prCGuKSnv2zl"
      },
      "source": [
        "**8.   Months since last delinquent**"
      ]
    },
    {
      "cell_type": "code",
      "metadata": {
        "colab": {
          "base_uri": "https://localhost:8080/",
          "height": 638
        },
        "id": "W8rLsGF8v9w1",
        "outputId": "d659279e-76b0-47bb-c332-24a81858d36b"
      },
      "source": [
        "var = 'Months since last delinquent'\n",
        "train_df[var].plot.hist(), train_df[var].describe(), train_df[var].isnull().sum(), train_df[var].value_counts()"
      ],
      "execution_count": 42,
      "outputs": [
        {
          "output_type": "execute_result",
          "data": {
            "text/plain": [
              "(<matplotlib.axes._subplots.AxesSubplot at 0x7f05376617d0>,\n",
              " count    3419.000000\n",
              " mean       34.692600\n",
              " std        21.688801\n",
              " min         0.000000\n",
              " 25%        16.000000\n",
              " 50%        32.000000\n",
              " 75%        50.000000\n",
              " max       118.000000\n",
              " Name: Months since last delinquent, dtype: float64,\n",
              " 4081,\n",
              " 14.0     76\n",
              " 29.0     71\n",
              " 8.0      68\n",
              " 33.0     68\n",
              " 13.0     65\n",
              "          ..\n",
              " 86.0      1\n",
              " 92.0      1\n",
              " 118.0     1\n",
              " 84.0      1\n",
              " 91.0      1\n",
              " Name: Months since last delinquent, Length: 89, dtype: int64)"
            ]
          },
          "metadata": {
            "tags": []
          },
          "execution_count": 42
        },
        {
          "output_type": "display_data",
          "data": {
            "image/png": "[encoded data removed]",
            "text/plain": [
              "<Figure size 432x288 with 1 Axes>"
            ]
          },
          "metadata": {
            "tags": [],
            "needs_background": "light"
          }
        }
      ]
    },
    {
      "cell_type": "code",
      "metadata": {
        "colab": {
          "base_uri": "https://localhost:8080/",
          "height": 343
        },
        "id": "PJm56X-Czadq",
        "outputId": "96d8ae5a-8b67-44f4-8e08-f287911311bd"
      },
      "source": [
        "display_stats(train_df, var)"
      ],
      "execution_count": 43,
      "outputs": [
        {
          "output_type": "stream",
          "text": [
            "mean: 34.69\n",
            "median: 32.0\n",
            "mode: 14.0\n"
          ],
          "name": "stdout"
        },
        {
          "output_type": "display_data",
          "data": {
            "image/png": "[encoded data removed]",
            "text/plain": [
              "<Figure size 576x288 with 1 Axes>"
            ]
          },
          "metadata": {
            "tags": [],
            "needs_background": "light"
          }
        }
      ]
    },
    {
      "cell_type": "code",
      "metadata": {
        "colab": {
          "base_uri": "https://localhost:8080/",
          "height": 441
        },
        "id": "VkNXbMKf0khR",
        "outputId": "30d2ae4c-e5cc-4e47-8d33-bf89450bc17a"
      },
      "source": [
        "data = pd.concat([train_df['Number of Credit Problems'], train_df[var]], axis=1)\n",
        "data.plot.scatter(x=var, y='Number of Credit Problems'), train_df[var].describe()"
      ],
      "execution_count": 44,
      "outputs": [
        {
          "output_type": "execute_result",
          "data": {
            "text/plain": [
              "(<matplotlib.axes._subplots.AxesSubplot at 0x7f05374887d0>,\n",
              " count    3419.000000\n",
              " mean       34.692600\n",
              " std        21.688801\n",
              " min         0.000000\n",
              " 25%        16.000000\n",
              " 50%        32.000000\n",
              " 75%        50.000000\n",
              " max       118.000000\n",
              " Name: Months since last delinquent, dtype: float64)"
            ]
          },
          "metadata": {
            "tags": []
          },
          "execution_count": 44
        },
        {
          "output_type": "display_data",
          "data": {
            "image/png": "[encoded data removed]",
            "text/plain": [
              "<Figure size 432x288 with 1 Axes>"
            ]
          },
          "metadata": {
            "tags": [],
            "needs_background": "light"
          }
        }
      ]
    },
    {
      "cell_type": "markdown",
      "metadata": {
        "id": "qmJtI9V9X6O1"
      },
      "source": [
        "**9. Bankruptcies**"
      ]
    },
    {
      "cell_type": "code",
      "metadata": {
        "colab": {
          "base_uri": "https://localhost:8080/",
          "height": 541
        },
        "id": "umjqYhkiX8Xz",
        "outputId": "04368403-efe6-4367-dc00-6aed1c1157bf"
      },
      "source": [
        "var = 'Bankruptcies'\n",
        "train_df[var].plot.hist(), train_df[var].describe(), train_df[var].isnull().sum(), train_df[var].value_counts()"
      ],
      "execution_count": 45,
      "outputs": [
        {
          "output_type": "execute_result",
          "data": {
            "text/plain": [
              "(<matplotlib.axes._subplots.AxesSubplot at 0x7f053757ca90>,\n",
              " count    7486.000000\n",
              " mean        0.117152\n",
              " std         0.347197\n",
              " min         0.000000\n",
              " 25%         0.000000\n",
              " 50%         0.000000\n",
              " 75%         0.000000\n",
              " max         4.000000\n",
              " Name: Bankruptcies, dtype: float64,\n",
              " 14,\n",
              " 0.0    6660\n",
              " 1.0     786\n",
              " 2.0      31\n",
              " 3.0       7\n",
              " 4.0       2\n",
              " Name: Bankruptcies, dtype: int64)"
            ]
          },
          "metadata": {
            "tags": []
          },
          "execution_count": 45
        },
        {
          "output_type": "display_data",
          "data": {
            "image/png": "[encoded data removed]",
            "text/plain": [
              "<Figure size 432x288 with 1 Axes>"
            ]
          },
          "metadata": {
            "tags": [],
            "needs_background": "light"
          }
        }
      ]
    },
    {
      "cell_type": "code",
      "metadata": {
        "colab": {
          "base_uri": "https://localhost:8080/",
          "height": 441
        },
        "id": "DCHGfMfO9IdN",
        "outputId": "1d661055-38e6-4f07-b60b-a2ee06ac78ad"
      },
      "source": [
        "data = pd.concat([train_df['Number of Credit Problems'], train_df[var]], axis=1)\n",
        "data.plot.scatter(x=var, y='Number of Credit Problems'), train_df[var].describe()"
      ],
      "execution_count": 46,
      "outputs": [
        {
          "output_type": "execute_result",
          "data": {
            "text/plain": [
              "(<matplotlib.axes._subplots.AxesSubplot at 0x7f053771b150>,\n",
              " count    7486.000000\n",
              " mean        0.117152\n",
              " std         0.347197\n",
              " min         0.000000\n",
              " 25%         0.000000\n",
              " 50%         0.000000\n",
              " 75%         0.000000\n",
              " max         4.000000\n",
              " Name: Bankruptcies, dtype: float64)"
            ]
          },
          "metadata": {
            "tags": []
          },
          "execution_count": 46
        },
        {
          "output_type": "display_data",
          "data": {
            "image/png": "[encoded data removed]",
            "text/plain": [
              "<Figure size 432x288 with 1 Axes>"
            ]
          },
          "metadata": {
            "tags": [],
            "needs_background": "light"
          }
        }
      ]
    },
    {
      "cell_type": "markdown",
      "metadata": {
        "id": "rYigqBcHUGi-"
      },
      "source": [
        "**Purpose**"
      ]
    },
    {
      "cell_type": "code",
      "metadata": {
        "colab": {
          "base_uri": "https://localhost:8080/"
        },
        "id": "VUVxBcgvUIe2",
        "outputId": "8072476b-24f9-40ad-b6d9-37fe1d205249"
      },
      "source": [
        "var = 'Purpose'\n",
        "train_df[var].describe(), train_df[var].isnull().sum(), train_df[var].value_counts()"
      ],
      "execution_count": 51,
      "outputs": [
        {
          "output_type": "execute_result",
          "data": {
            "text/plain": [
              "(count                   7500\n",
              " unique                    15\n",
              " top       debt consolidation\n",
              " freq                    5944\n",
              " Name: Purpose, dtype: object, 0, debt consolidation      5944\n",
              " other                    665\n",
              " home improvements        412\n",
              " business loan            129\n",
              " buy a car                 96\n",
              " medical bills             71\n",
              " major purchase            40\n",
              " take a trip               37\n",
              " buy house                 34\n",
              " small business            26\n",
              " wedding                   15\n",
              " moving                    11\n",
              " educational expenses      10\n",
              " vacation                   8\n",
              " renewable energy           2\n",
              " Name: Purpose, dtype: int64)"
            ]
          },
          "metadata": {
            "tags": []
          },
          "execution_count": 51
        }
      ]
    },
    {
      "cell_type": "code",
      "metadata": {
        "colab": {
          "base_uri": "https://localhost:8080/",
          "height": 403
        },
        "id": "HjgdoH5UUdbI",
        "outputId": "9985d278-8a43-47eb-a2c7-a658228ba2d6"
      },
      "source": [
        "plt.figure(figsize=(32, 6))\n",
        "sns.pointplot(x=var, y=TARGET_NAME, data=train_df, capsize=.1,)"
      ],
      "execution_count": 52,
      "outputs": [
        {
          "output_type": "execute_result",
          "data": {
            "text/plain": [
              "<matplotlib.axes._subplots.AxesSubplot at 0x7f0537d22e10>"
            ]
          },
          "metadata": {
            "tags": []
          },
          "execution_count": 52
        },
        {
          "output_type": "display_data",
          "data": {
            "image/png": "[encoded data removed]",
            "text/plain": [
              "<Figure size 2304x432 with 1 Axes>"
            ]
          },
          "metadata": {
            "tags": [],
            "needs_background": "light"
          }
        }
      ]
    },
    {
      "cell_type": "markdown",
      "metadata": {
        "id": "FvsaKrHdYSkd"
      },
      "source": [
        "**Data preprocessing**"
      ]
    },
    {
      "cell_type": "code",
      "metadata": {
        "id": "DI3X1xnykzH5"
      },
      "source": [
        "import warnings\n",
        "import sklearn\n",
        "\n",
        "def get_feature_names(column_transformer):\n",
        "    \"\"\"Get feature names from all transformers.\n",
        "    Returns\n",
        "    -------\n",
        "    feature_names : list of strings\n",
        "        Names of the features produced by transform.\n",
        "    \"\"\"\n",
        "    # Remove the internal helper function\n",
        "    #check_is_fitted(column_transformer)\n",
        "    \n",
        "    # Turn loopkup into function for better handling with pipeline later\n",
        "    def get_names(trans):\n",
        "        # >> Original get_feature_names() method\n",
        "        if trans == 'drop' or (\n",
        "                hasattr(column, '__len__') and not len(column)):\n",
        "            return []\n",
        "        if trans == 'passthrough':\n",
        "            if hasattr(column_transformer, '_df_columns'):\n",
        "                if ((not isinstance(column, slice))\n",
        "                        and all(isinstance(col, str) for col in column)):\n",
        "                    return column\n",
        "                else:\n",
        "                    return column_transformer._df_columns[column]\n",
        "            else:\n",
        "                indices = np.arange(column_transformer._n_features)\n",
        "                return ['x%d' % i for i in indices[column]]\n",
        "        if not hasattr(trans, 'get_feature_names'):\n",
        "        # >>> Change: Return input column names if no method avaiable\n",
        "            # Turn error into a warning\n",
        "            warnings.warn(\"Transformer %s (type %s) does not \"\n",
        "                                 \"provide get_feature_names. \"\n",
        "                                 \"Will return input column names if available\"\n",
        "                                 % (str(name), type(trans).__name__))\n",
        "            # For transformers without a get_features_names method, use the input\n",
        "            # names to the column transformer\n",
        "            if column is None:\n",
        "                return []\n",
        "            else:\n",
        "                return [name + \"__\" + f for f in column]\n",
        "\n",
        "        return [name + \"__\" + f for f in trans.get_feature_names()]\n",
        "    \n",
        "    ### Start of processing\n",
        "    feature_names = []\n",
        "    \n",
        "    # Allow transformers to be pipelines. Pipeline steps are named differently, so preprocessing is needed\n",
        "    if type(column_transformer) == sklearn.pipeline.Pipeline:\n",
        "        l_transformers = [(name, trans, None, None) for step, name, trans in column_transformer._iter()]\n",
        "    else:\n",
        "        # For column transformers, follow the original method\n",
        "        l_transformers = list(column_transformer._iter(fitted=True))\n",
        "    \n",
        "    \n",
        "    for name, trans, column, _ in l_transformers: \n",
        "        if type(trans) == sklearn.pipeline.Pipeline:\n",
        "            # Recursive call on pipeline\n",
        "            _names = get_feature_names(trans)\n",
        "            # if pipeline has no transformer that returns names\n",
        "            if len(_names)==0:\n",
        "                _names = [name + \"__\" + f for f in column]\n",
        "            feature_names.extend(_names)\n",
        "        else:\n",
        "            feature_names.extend(get_names(trans))\n",
        "    \n",
        "    return feature_names"
      ],
      "execution_count": 55,
      "outputs": []
    },
    {
      "cell_type": "code",
      "metadata": {
        "id": "JmOK0dQpEWii"
      },
      "source": [
        "from sklearn.compose import make_column_transformer\n",
        "from sklearn.decomposition import PCA\n",
        "from sklearn.decomposition import KernelPCA\n",
        "from sklearn.preprocessing import QuantileTransformer\n",
        "from sklearn.pipeline import make_pipeline\n",
        "from sklearn.preprocessing import MultiLabelBinarizer\n",
        "from sklearn.impute import KNNImputer\n",
        "from sklearn.preprocessing import Binarizer\n",
        "from sklearn.preprocessing import LabelEncoder\n",
        "from sklearn.preprocessing import LabelBinarizer\n",
        "import category_encoders as ce"
      ],
      "execution_count": 56,
      "outputs": []
    },
    {
      "cell_type": "code",
      "metadata": {
        "id": "5j_40i74BRws"
      },
      "source": [
        "from sklearn.base import TransformerMixin #gives fit_transform method for free\n",
        "class MyMultiLabelBinarizer(TransformerMixin):\n",
        "    def __init__(self, *args, **kwargs):\n",
        "        self.encoder = MultiLabelBinarizer(*args, **kwargs)\n",
        "    def fit(self, x, y=0):\n",
        "        self.encoder.fit(x)\n",
        "        return self\n",
        "    def transform(self, x, y=0):\n",
        "        return self.encoder.transform(x)\n",
        "\n",
        "class MyLabelBinarizer(TransformerMixin):\n",
        "    def __init__(self, *args, **kwargs):\n",
        "        self.encoder = LabelBinarizer(*args, **kwargs)\n",
        "    def fit(self, x, y=0):\n",
        "        self.encoder.fit(x)\n",
        "        return self\n",
        "    def transform(self, x, y=0):\n",
        "        return self.encoder.transform(x)\n",
        "\n",
        "class MyLabelEncoder(TransformerMixin):\n",
        "    def __init__(self, *args, **kwargs):\n",
        "        self.encoder = LabelEncoder(*args, **kwargs)\n",
        "    def fit(self, x, y=0):\n",
        "        self.encoder.fit(x)\n",
        "        return self\n",
        "    def transform(self, x, y=0):\n",
        "        return self.encoder.transform(x)"
      ],
      "execution_count": 57,
      "outputs": []
    },
    {
      "cell_type": "code",
      "metadata": {
        "colab": {
          "base_uri": "https://localhost:8080/"
        },
        "id": "gegrqtZq5LkD",
        "outputId": "8db2b830-a2ac-4f90-b0a0-d1aaf2bcb424"
      },
      "source": [
        "train_df, test_df = load_data()\n",
        "X, y = get_X_y(train_df)\n",
        "print(f\"X.shape: {X.shape} y.shape.shape: {y.shape}\") \n",
        "\n",
        "X_train, X_valid, y_train, y_valid = train_test_split(X, y, shuffle=True, stratify=y, test_size=2500, random_state=21)  \n",
        "print(f\"X_train.shape: {X_train.shape} X_valid.shape: {X_valid.shape} test_df.shape: {test_df.shape}\") \n",
        "\n",
        "allfeatures = X_train.columns.to_list()\n",
        "print(allfeatures)\n",
        "\n",
        "numeric_simple = make_pipeline(RobustScaler(quantile_range=[0.15, 0.85]), SimpleImputer(strategy=\"median\"))\n",
        "like_cat = make_pipeline(SimpleImputer(strategy=\"most_frequent\"), ce.cat_boost.CatBoostEncoder())\n",
        "multi_label = make_pipeline(ce.cat_boost.CatBoostEncoder(), SimpleImputer(strategy=\"most_frequent\"))\n",
        "binarized = make_pipeline(MyLabelBinarizer(), SimpleImputer(strategy=\"most_frequent\"))  \n",
        "linear_pca = make_pipeline(RobustScaler(quantile_range=[0.15, 0.85]), SimpleImputer(strategy=\"median\"), PCA(random_state=21))\n",
        "nonlinear_pca = make_pipeline(RobustScaler(quantile_range=[0.15, 0.85]), SimpleImputer(strategy=\"most_frequent\"), KernelPCA(random_state=21, n_jobs=-1) ) \n",
        "\n",
        "numeric_simple_cols = ['Annual Income', 'Credit Score', 'Maximum Open Credit'] \n",
        "linear_pca_cols = ['Monthly Debt', 'Current Loan Amount', 'Current Credit Balance']\n",
        "nonlinear_pca_cols= ['Bankruptcies', 'Number of Credit Problems', 'Months since last delinquent']\n",
        "like_cat_cols = ['Tax Liens', 'Number of Open Accounts', 'Years of Credit History']\n",
        "multi_label_cols = ['Home Ownership', 'Years in current job', 'Purpose']\n",
        "binarized_cols = ['Term']\n",
        "\n",
        "print(\"all columns\", len(allfeatures), (len(numeric_simple_cols)+len(linear_pca_cols)+len(nonlinear_pca_cols)+len(like_cat)+len(multi_label_cols)+len(binarized_cols)))\n",
        "\n",
        "prerpocess_transform = make_column_transformer(  \n",
        "    (numeric_simple, numeric_simple_cols),  \n",
        "    (like_cat, like_cat_cols),  \n",
        "    (multi_label, multi_label_cols), \n",
        "    (binarized, binarized_cols),          \n",
        "    (linear_pca, linear_pca_cols),\n",
        "    (nonlinear_pca, nonlinear_pca_cols),\n",
        "  remainder=\"passthrough\",\n",
        "  n_jobs=-1,\n",
        "  verbose=True\n",
        "    )\n",
        "\n",
        "X_train = prerpocess_transform.fit_transform(X_train, y_train)\n",
        "X_valid = prerpocess_transform.transform(X_valid)\n",
        "test_df = prerpocess_transform.transform(test_df)"
      ],
      "execution_count": 58,
      "outputs": [
        {
          "output_type": "stream",
          "text": [
            "Memory usage of dataframe is 0.97 MB\n",
            "Memory usage after optimization is: 0.38 MB\n",
            "Decreased by 60.9%\n",
            "Memory usage of dataframe is 0.31 MB\n",
            "Memory usage after optimization is: 0.13 MB\n",
            "Decreased by 58.9%\n",
            "(7500, 17) (2500, 16)\n",
            "X.shape: (7500, 16) y.shape.shape: (7500,)\n",
            "X_train.shape: (5000, 16) X_valid.shape: (2500, 16) test_df.shape: (2500, 16)\n",
            "['Home Ownership', 'Annual Income', 'Years in current job', 'Tax Liens', 'Number of Open Accounts', 'Years of Credit History', 'Maximum Open Credit', 'Number of Credit Problems', 'Months since last delinquent', 'Bankruptcies', 'Purpose', 'Term', 'Current Loan Amount', 'Current Credit Balance', 'Monthly Debt', 'Credit Score']\n",
            "all columns 16 15\n"
          ],
          "name": "stdout"
        }
      ]
    },
    {
      "cell_type": "code",
      "metadata": {
        "colab": {
          "base_uri": "https://localhost:8080/"
        },
        "id": "38Elh8V9w-p2",
        "outputId": "6611d1e0-ce53-4214-d18e-af2b88dc0027"
      },
      "source": [
        "X_train[0], X_train[1], X_train[2]"
      ],
      "execution_count": 59,
      "outputs": [
        {
          "output_type": "execute_result",
          "data": {
            "text/plain": [
              "(array([      0.,       0., -220352., ...,      -0.,      -0.,      -0.]),\n",
              " array([-1.37183321e+00, -3.21367741e-01,  4.53068000e+05, ...,\n",
              "        -1.60308822e-09, -1.48021179e-10, -5.95313798e-10]),\n",
              " array([ 2.46737194e+00,  1.28547102e-01, -1.14950000e+05, ...,\n",
              "        -3.23920744e-07, -6.84518852e-07, -5.42854650e-07]))"
            ]
          },
          "metadata": {
            "tags": []
          },
          "execution_count": 59
        }
      ]
    },
    {
      "cell_type": "code",
      "metadata": {
        "id": "SUdCist5skfp",
        "colab": {
          "base_uri": "https://localhost:8080/",
          "height": 312
        },
        "outputId": "08225857-932a-409a-ca1a-d3a3973c75cf"
      },
      "source": [
        "fet = get_feature_names(prerpocess_transform)\n",
        "fet"
      ],
      "execution_count": 60,
      "outputs": [
        {
          "output_type": "error",
          "ename": "TypeError",
          "evalue": "ignored",
          "traceback": [
            "\u001b[0;31m---------------------------------------------------------------------------\u001b[0m",
            "\u001b[0;31mTypeError\u001b[0m                                 Traceback (most recent call last)",
            "\u001b[0;32m<ipython-input-60-39815ca7a301>\u001b[0m in \u001b[0;36m<module>\u001b[0;34m()\u001b[0m\n\u001b[0;32m----> 1\u001b[0;31m \u001b[0mfet\u001b[0m \u001b[0;34m=\u001b[0m \u001b[0mget_feature_names\u001b[0m\u001b[0;34m(\u001b[0m\u001b[0mprerpocess_transform\u001b[0m\u001b[0;34m)\u001b[0m\u001b[0;34m\u001b[0m\u001b[0;34m\u001b[0m\u001b[0m\n\u001b[0m\u001b[1;32m      2\u001b[0m \u001b[0mfet\u001b[0m\u001b[0;34m\u001b[0m\u001b[0;34m\u001b[0m\u001b[0m\n",
            "\u001b[0;32m<ipython-input-55-2f47c8d752fa>\u001b[0m in \u001b[0;36mget_feature_names\u001b[0;34m(column_transformer)\u001b[0m\n\u001b[1;32m     58\u001b[0m         \u001b[0;32mif\u001b[0m \u001b[0mtype\u001b[0m\u001b[0;34m(\u001b[0m\u001b[0mtrans\u001b[0m\u001b[0;34m)\u001b[0m \u001b[0;34m==\u001b[0m \u001b[0msklearn\u001b[0m\u001b[0;34m.\u001b[0m\u001b[0mpipeline\u001b[0m\u001b[0;34m.\u001b[0m\u001b[0mPipeline\u001b[0m\u001b[0;34m:\u001b[0m\u001b[0;34m\u001b[0m\u001b[0;34m\u001b[0m\u001b[0m\n\u001b[1;32m     59\u001b[0m             \u001b[0;31m# Recursive call on pipeline\u001b[0m\u001b[0;34m\u001b[0m\u001b[0;34m\u001b[0m\u001b[0;34m\u001b[0m\u001b[0m\n\u001b[0;32m---> 60\u001b[0;31m             \u001b[0m_names\u001b[0m \u001b[0;34m=\u001b[0m \u001b[0mget_feature_names\u001b[0m\u001b[0;34m(\u001b[0m\u001b[0mtrans\u001b[0m\u001b[0;34m)\u001b[0m\u001b[0;34m\u001b[0m\u001b[0;34m\u001b[0m\u001b[0m\n\u001b[0m\u001b[1;32m     61\u001b[0m             \u001b[0;31m# if pipeline has no transformer that returns names\u001b[0m\u001b[0;34m\u001b[0m\u001b[0;34m\u001b[0m\u001b[0;34m\u001b[0m\u001b[0m\n\u001b[1;32m     62\u001b[0m             \u001b[0;32mif\u001b[0m \u001b[0mlen\u001b[0m\u001b[0;34m(\u001b[0m\u001b[0m_names\u001b[0m\u001b[0;34m)\u001b[0m\u001b[0;34m==\u001b[0m\u001b[0;36m0\u001b[0m\u001b[0;34m:\u001b[0m\u001b[0;34m\u001b[0m\u001b[0;34m\u001b[0m\u001b[0m\n",
            "\u001b[0;32m<ipython-input-55-2f47c8d752fa>\u001b[0m in \u001b[0;36mget_feature_names\u001b[0;34m(column_transformer)\u001b[0m\n\u001b[1;32m     64\u001b[0m             \u001b[0mfeature_names\u001b[0m\u001b[0;34m.\u001b[0m\u001b[0mextend\u001b[0m\u001b[0;34m(\u001b[0m\u001b[0m_names\u001b[0m\u001b[0;34m)\u001b[0m\u001b[0;34m\u001b[0m\u001b[0;34m\u001b[0m\u001b[0m\n\u001b[1;32m     65\u001b[0m         \u001b[0;32melse\u001b[0m\u001b[0;34m:\u001b[0m\u001b[0;34m\u001b[0m\u001b[0;34m\u001b[0m\u001b[0m\n\u001b[0;32m---> 66\u001b[0;31m             \u001b[0mfeature_names\u001b[0m\u001b[0;34m.\u001b[0m\u001b[0mextend\u001b[0m\u001b[0;34m(\u001b[0m\u001b[0mget_names\u001b[0m\u001b[0;34m(\u001b[0m\u001b[0mtrans\u001b[0m\u001b[0;34m)\u001b[0m\u001b[0;34m)\u001b[0m\u001b[0;34m\u001b[0m\u001b[0;34m\u001b[0m\u001b[0m\n\u001b[0m\u001b[1;32m     67\u001b[0m \u001b[0;34m\u001b[0m\u001b[0m\n\u001b[1;32m     68\u001b[0m     \u001b[0;32mreturn\u001b[0m \u001b[0mfeature_names\u001b[0m\u001b[0;34m\u001b[0m\u001b[0;34m\u001b[0m\u001b[0m\n",
            "\u001b[0;32m<ipython-input-55-2f47c8d752fa>\u001b[0m in \u001b[0;36mget_names\u001b[0;34m(trans)\u001b[0m\n\u001b[1;32m     42\u001b[0m                 \u001b[0;32mreturn\u001b[0m \u001b[0;34m[\u001b[0m\u001b[0mname\u001b[0m \u001b[0;34m+\u001b[0m \u001b[0;34m\"__\"\u001b[0m \u001b[0;34m+\u001b[0m \u001b[0mf\u001b[0m \u001b[0;32mfor\u001b[0m \u001b[0mf\u001b[0m \u001b[0;32min\u001b[0m \u001b[0mcolumn\u001b[0m\u001b[0;34m]\u001b[0m\u001b[0;34m\u001b[0m\u001b[0;34m\u001b[0m\u001b[0m\n\u001b[1;32m     43\u001b[0m \u001b[0;34m\u001b[0m\u001b[0m\n\u001b[0;32m---> 44\u001b[0;31m         \u001b[0;32mreturn\u001b[0m \u001b[0;34m[\u001b[0m\u001b[0mname\u001b[0m \u001b[0;34m+\u001b[0m \u001b[0;34m\"__\"\u001b[0m \u001b[0;34m+\u001b[0m \u001b[0mf\u001b[0m \u001b[0;32mfor\u001b[0m \u001b[0mf\u001b[0m \u001b[0;32min\u001b[0m \u001b[0mtrans\u001b[0m\u001b[0;34m.\u001b[0m\u001b[0mget_feature_names\u001b[0m\u001b[0;34m(\u001b[0m\u001b[0;34m)\u001b[0m\u001b[0;34m]\u001b[0m\u001b[0;34m\u001b[0m\u001b[0;34m\u001b[0m\u001b[0m\n\u001b[0m\u001b[1;32m     45\u001b[0m \u001b[0;34m\u001b[0m\u001b[0m\n\u001b[1;32m     46\u001b[0m     \u001b[0;31m### Start of processing\u001b[0m\u001b[0;34m\u001b[0m\u001b[0;34m\u001b[0m\u001b[0;34m\u001b[0m\u001b[0m\n",
            "\u001b[0;32m<ipython-input-55-2f47c8d752fa>\u001b[0m in \u001b[0;36m<listcomp>\u001b[0;34m(.0)\u001b[0m\n\u001b[1;32m     42\u001b[0m                 \u001b[0;32mreturn\u001b[0m \u001b[0;34m[\u001b[0m\u001b[0mname\u001b[0m \u001b[0;34m+\u001b[0m \u001b[0;34m\"__\"\u001b[0m \u001b[0;34m+\u001b[0m \u001b[0mf\u001b[0m \u001b[0;32mfor\u001b[0m \u001b[0mf\u001b[0m \u001b[0;32min\u001b[0m \u001b[0mcolumn\u001b[0m\u001b[0;34m]\u001b[0m\u001b[0;34m\u001b[0m\u001b[0;34m\u001b[0m\u001b[0m\n\u001b[1;32m     43\u001b[0m \u001b[0;34m\u001b[0m\u001b[0m\n\u001b[0;32m---> 44\u001b[0;31m         \u001b[0;32mreturn\u001b[0m \u001b[0;34m[\u001b[0m\u001b[0mname\u001b[0m \u001b[0;34m+\u001b[0m \u001b[0;34m\"__\"\u001b[0m \u001b[0;34m+\u001b[0m \u001b[0mf\u001b[0m \u001b[0;32mfor\u001b[0m \u001b[0mf\u001b[0m \u001b[0;32min\u001b[0m \u001b[0mtrans\u001b[0m\u001b[0;34m.\u001b[0m\u001b[0mget_feature_names\u001b[0m\u001b[0;34m(\u001b[0m\u001b[0;34m)\u001b[0m\u001b[0;34m]\u001b[0m\u001b[0;34m\u001b[0m\u001b[0;34m\u001b[0m\u001b[0m\n\u001b[0m\u001b[1;32m     45\u001b[0m \u001b[0;34m\u001b[0m\u001b[0m\n\u001b[1;32m     46\u001b[0m     \u001b[0;31m### Start of processing\u001b[0m\u001b[0;34m\u001b[0m\u001b[0;34m\u001b[0m\u001b[0;34m\u001b[0m\u001b[0m\n",
            "\u001b[0;31mTypeError\u001b[0m: can only concatenate str (not \"int\") to str"
          ]
        }
      ]
    },
    {
      "cell_type": "code",
      "metadata": {
        "colab": {
          "base_uri": "https://localhost:8080/"
        },
        "id": "8SFIkcMprd1B",
        "outputId": "4f38ed36-60de-429e-856b-19b57ad8113c"
      },
      "source": [
        "X_train.shape, y_train.shape, X_valid.shape, y_valid.shape"
      ],
      "execution_count": 61,
      "outputs": [
        {
          "output_type": "execute_result",
          "data": {
            "text/plain": [
              "((5000, 1275), (5000,), (2500, 1275), (2500,))"
            ]
          },
          "metadata": {
            "tags": []
          },
          "execution_count": 61
        }
      ]
    },
    {
      "cell_type": "code",
      "metadata": {
        "colab": {
          "base_uri": "https://localhost:8080/"
        },
        "id": "AasaG7r6dAw2",
        "outputId": "1f8e9593-a415-4394-a719-562f27e696d6"
      },
      "source": [
        "def class_disbalance(y):\n",
        "  target_vals=y.value_counts()  \n",
        "  print(target_vals)\n",
        "  disbalance = round(target_vals[0]/target_vals[1], 2)  \n",
        "  class_we = [1, disbalance]\n",
        "  print(class_we)\n",
        "  return class_we\n",
        "\n",
        "class_weights = class_disbalance(y_train)"
      ],
      "execution_count": 62,
      "outputs": [
        {
          "output_type": "stream",
          "text": [
            "0    3591\n",
            "1    1409\n",
            "Name: Credit Default, dtype: int64\n",
            "[1, 2.55]\n"
          ],
          "name": "stdout"
        }
      ]
    },
    {
      "cell_type": "markdown",
      "metadata": {
        "id": "paPZKVpaKrDL"
      },
      "source": [
        "*XGBoost*"
      ]
    },
    {
      "cell_type": "code",
      "metadata": {
        "colab": {
          "base_uri": "https://localhost:8080/"
        },
        "id": "nt8fKvu854Ku",
        "outputId": "19b099fc-45ea-4719-afbc-ccbacef41caf"
      },
      "source": [
        "ratio = float(np.sum(y == 1)) / np.sum(y==0)\n",
        "ratio"
      ],
      "execution_count": 63,
      "outputs": [
        {
          "output_type": "execute_result",
          "data": {
            "text/plain": [
              "0.39224057917208094"
            ]
          },
          "metadata": {
            "tags": []
          },
          "execution_count": 63
        }
      ]
    },
    {
      "cell_type": "code",
      "metadata": {
        "colab": {
          "base_uri": "https://localhost:8080/",
          "height": 1000
        },
        "id": "K2AuKcvSKuqu",
        "outputId": "5bc99938-fe8c-4e7e-e6ec-4055d833f793"
      },
      "source": [
        "model_xgb = xgb.XGBClassifier(random_state=21, \n",
        "                # missing=9999999999,\n",
        "                # max_depth = 5,\n",
        "                # n_estimators=2000,\n",
        "                # learning_rate=0.03, \n",
        "                # nthread=4,\n",
        "                # subsample=1.0,\n",
        "                # colsample_bytree=0.5,\n",
        "                # min_child_weight = 3,\n",
        "                # scale_pos_weight = ratio,\n",
        "                # reg_alpha=0.03,\n",
        "                )\n",
        "                # eval_metric=\"auc\",\n",
        "model_xgb.fit(X_train, y_train) #, early_stopping_rounds=50, eval_set=[(X_train, y_train), (X_valid, y_valid)])\n",
        "\n",
        "y_train_pred = model_xgb.predict(X_train)\n",
        "y_test_pred = model_xgb.predict(X_valid)\n",
        "y_test_pred_probs = model_xgb.predict_proba(X_valid)\n",
        "\n",
        "get_classification_report(y_train, y_train_pred, y_valid, y_test_pred)\n",
        "print(f1_score(y_valid, y_test_pred))\n",
        "\n",
        "show_proba_calibration_plots(y_test_pred_probs[:, 1], y_valid)\n",
        "# 0.5113077679449362"
      ],
      "execution_count": 64,
      "outputs": [
        {
          "output_type": "stream",
          "text": [
            "TRAIN\n",
            "\n",
            "              precision    recall  f1-score   support\n",
            "\n",
            "           0       0.80      1.00      0.89      3591\n",
            "           1       1.00      0.38      0.55      1409\n",
            "\n",
            "    accuracy                           0.82      5000\n",
            "   macro avg       0.90      0.69      0.72      5000\n",
            "weighted avg       0.86      0.82      0.79      5000\n",
            "\n",
            "TEST\n",
            "\n",
            "              precision    recall  f1-score   support\n",
            "\n",
            "           0       0.84      0.55      0.66      1796\n",
            "           1       0.39      0.74      0.51       704\n",
            "\n",
            "    accuracy                           0.60      2500\n",
            "   macro avg       0.62      0.64      0.59      2500\n",
            "weighted avg       0.72      0.60      0.62      2500\n",
            "\n",
            "CONFUSION MATRIX\n",
            "\n",
            "col_0             0    1\n",
            "Credit Default          \n",
            "0               986  810\n",
            "1               184  520\n",
            "0.5113077679449362\n"
          ],
          "name": "stdout"
        },
        {
          "output_type": "display_data",
          "data": {
            "image/png": "[encoded data removed]",
            "text/plain": [
              "<Figure size 1080x360 with 2 Axes>"
            ]
          },
          "metadata": {
            "tags": [],
            "needs_background": "light"
          }
        }
      ]
    },
    {
      "cell_type": "markdown",
      "metadata": {
        "id": "ZTXt0CX68N7M"
      },
      "source": [
        "**Сохранение модели**"
      ]
    },
    {
      "cell_type": "code",
      "metadata": {
        "id": "W_z7DOC88LC4"
      },
      "source": [
        "def save_model(model, mname, threshold=None):\n",
        "  # if threshold >= 0.70:\n",
        "  with open(MODEL_FILE_PATH+mname, 'wb') as file:\n",
        "    pickle.dump(model, file)  "
      ],
      "execution_count": 65,
      "outputs": []
    },
    {
      "cell_type": "markdown",
      "metadata": {
        "id": "TPqTkwxB_WsR"
      },
      "source": [
        "**8. Прогнозирование на тестовом датасете**"
      ]
    },
    {
      "cell_type": "code",
      "metadata": {
        "id": "KQOLRQcG1MvG"
      },
      "source": [
        "def save_submit(model, mname, df):\n",
        "  submit = pd.read_csv(SUBMIT_DATASET_FILE)\n",
        "  submit.head()\n",
        "  predictions = model.predict(test_df)\n",
        "  predictions\n",
        "  submit[TARGET_NAME] = predictions\n",
        "  submit.head() \n",
        "  submit.to_csv(SUBMIT_DATASET_PATH+mname+'_submit.csv', index=False)"
      ],
      "execution_count": 66,
      "outputs": []
    },
    {
      "cell_type": "code",
      "metadata": {
        "id": "CKUMbDQh2Ljj"
      },
      "source": [
        "save_submit(model_xgb, \"xgb19052021_2\", test_df)\n",
        "save_model(model_xgb, \"xgb19052021_2\") #0.5113077679449362"
      ],
      "execution_count": 67,
      "outputs": []
    }
  ]
}