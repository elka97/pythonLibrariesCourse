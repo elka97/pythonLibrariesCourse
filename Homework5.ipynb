{
  "nbformat": 4,
  "nbformat_minor": 0,
  "metadata": {
    "colab": {
      "name": "Homework5.ipynb",
      "private_outputs": true,
      "provenance": [],
      "collapsed_sections": [],
      "authorship_tag": "ABX9TyNwFre94VzUzCJFPmG3Sbzt",
      "include_colab_link": true
    },
    "kernelspec": {
      "name": "python3",
      "display_name": "Python 3"
    },
    "language_info": {
      "name": "python"
    }
  },
  "cells": [
    {
      "cell_type": "markdown",
      "metadata": {
        "id": "view-in-github",
        "colab_type": "text"
      },
      "source": [
        "<a href=\"https://colab.research.google.com/github/elka97/pythonLibrariesCourse/blob/main/Homework5.ipynb\" target=\"_parent\"><img src=\"https://colab.research.google.com/assets/colab-badge.svg\" alt=\"Open In Colab\"/></a>"
      ]
    },
    {
      "cell_type": "markdown",
      "metadata": {
        "id": "kU9xlLXeFuGf"
      },
      "source": [
        "# Тема “Обучение без учителя”\n",
        "Задание 1\n",
        "Импортируйте библиотеки pandas, numpy и matplotlib.\n",
        "Загрузите \"Boston House Prices dataset\" из встроенных наборов \n",
        "данных библиотеки sklearn.\n",
        "Создайте датафреймы X и y из этих данных.\n",
        "Разбейте эти датафреймы на тренировочные (X_train, y_train) и тестовые (X_test, y_test)\n",
        "с помощью функции train_test_split так, чтобы размер тестовой выборки\n",
        "составлял 20% от всех данных, при этом аргумент random_state должен быть равен 42.\n",
        "Масштабируйте данные с помощью StandardScaler.\n",
        "Постройте модель TSNE на тренировочный данных с параметрами:\n",
        "n_components=2, learning_rate=250, random_state=42.\n",
        "Постройте диаграмму рассеяния на этих данных."
      ]
    },
    {
      "cell_type": "code",
      "metadata": {
        "id": "Vq-CU0iYDfMV"
      },
      "source": [
        "import numpy as np\n",
        "import pandas as pd\n",
        "import matplotlib.pyplot as plt\n",
        "plt.style.use('fivethirtyeight')\n",
        "%config InlineBackend.figure_format = 'svg'\n",
        "%matplotlib inline"
      ],
      "execution_count": null,
      "outputs": []
    },
    {
      "cell_type": "code",
      "metadata": {
        "id": "QvCYdouwG0XO"
      },
      "source": [
        "from sklearn.datasets import load_boston\n",
        "\n",
        "boston = load_boston()\n",
        "X = pd.DataFrame(boston.data, columns=boston.feature_names)\n",
        "y = boston.target\n",
        "X.info()"
      ],
      "execution_count": null,
      "outputs": []
    },
    {
      "cell_type": "code",
      "metadata": {
        "id": "R1udM2jaG87N"
      },
      "source": [
        "from sklearn.model_selection import train_test_split\n",
        "X_train, X_test, y_train, y_test = train_test_split(X, y, test_size=0.2, random_state=42)"
      ],
      "execution_count": null,
      "outputs": []
    },
    {
      "cell_type": "code",
      "metadata": {
        "id": "A_0-6ryuHIe-"
      },
      "source": [
        "X_train.shape, X_test.shape, y_train.shape, y_test.shape"
      ],
      "execution_count": null,
      "outputs": []
    },
    {
      "cell_type": "code",
      "metadata": {
        "id": "7pWrDScfHU-1"
      },
      "source": [
        "from sklearn.preprocessing import StandardScaler\n",
        "scaler = StandardScaler()\n",
        "\n",
        "X_train_scaled = pd.DataFrame(scaler.fit_transform(X_train), columns=X_train.columns)\n",
        "X_test_scaled = pd.DataFrame(scaler.transform(X_test), columns=X_test.columns)"
      ],
      "execution_count": null,
      "outputs": []
    },
    {
      "cell_type": "code",
      "metadata": {
        "id": "Su1V3Bh5Hqgv"
      },
      "source": [
        "from sklearn.manifold import TSNE\n",
        "\n",
        "tsne = TSNE(n_components=2, learning_rate=250, random_state=42)\n",
        "\n",
        "X_train_tsne = tsne.fit_transform(X_train_scaled)\n",
        "\n",
        "print('До:\\t{}'.format(X_train_scaled.shape))\n",
        "print('После:\\t{}'.format(X_train_tsne.shape))"
      ],
      "execution_count": null,
      "outputs": []
    },
    {
      "cell_type": "code",
      "metadata": {
        "id": "MZTxjgx1H8P-"
      },
      "source": [
        "plt.scatter(X_train_tsne[:, 0], X_train_tsne[:, 1])\n",
        "plt.show()"
      ],
      "execution_count": null,
      "outputs": []
    },
    {
      "cell_type": "markdown",
      "metadata": {
        "id": "V1TR9-TrIHJt"
      },
      "source": [
        "Задание 2\n",
        "С помощью KMeans разбейте данные из тренировочного набора на 3 кластера,\n",
        "используйте все признаки из датафрейма X_train.\n",
        "Параметр max_iter должен быть равен 100, random_state сделайте равным 42.\n",
        "Постройте еще раз диаграмму рассеяния на данных, полученных с помощью TSNE,\n",
        "и раскрасьте точки из разных кластеров разными цветами.\n",
        "Вычислите средние значения price и CRIM в разных кластерах."
      ]
    },
    {
      "cell_type": "code",
      "metadata": {
        "id": "LB4593O-IJuv"
      },
      "source": [
        "from sklearn.cluster import KMeans\n",
        "model = KMeans(n_clusters=3, random_state=42, max_iter=100)"
      ],
      "execution_count": null,
      "outputs": []
    },
    {
      "cell_type": "code",
      "metadata": {
        "id": "04FXfgQxIrVO"
      },
      "source": [
        "train_labels = model.fit_predict(X_train_scaled)\n",
        "print(train_labels)"
      ],
      "execution_count": null,
      "outputs": []
    },
    {
      "cell_type": "code",
      "metadata": {
        "id": "bhENfwg2JNa_"
      },
      "source": [
        "plt.scatter(X_train_tsne[:, 0], X_train_tsne[:, 1], c=train_labels)\n",
        "plt.show()"
      ],
      "execution_count": null,
      "outputs": []
    },
    {
      "cell_type": "code",
      "metadata": {
        "id": "hwrCZu_MMah3"
      },
      "source": [
        "print('CRIM Кластер 0: {}'.format(X_train.loc[train_labels == 0, 'CRIM'].mean()))\n",
        "print('CRIM Кластер 1: {}'.format(X_train.loc[train_labels == 1, 'CRIM'].mean()))\n",
        "print('CRIM Кластер 2: {}'.format(X_train.loc[train_labels == 2, 'CRIM'].mean()))"
      ],
      "execution_count": null,
      "outputs": []
    },
    {
      "cell_type": "code",
      "metadata": {
        "id": "g8JUH0AZVV_7"
      },
      "source": [
        "print('price Кластер 0: {}'.format(y_train[train_labels == 0].mean()))\n",
        "print('price Кластер 1: {}'.format(y_train[train_labels == 1].mean()))\n",
        "print('price Кластер 2: {}'.format(y_train[train_labels == 2].mean()))"
      ],
      "execution_count": null,
      "outputs": []
    },
    {
      "cell_type": "markdown",
      "metadata": {
        "id": "_5hE7WpmfJ3t"
      },
      "source": [
        "*Задание 3\n",
        "Примените модель KMeans, построенную в предыдущем задании,\n",
        "к данным из тестового набора.\n",
        "Вычислите средние значения price и CRIM в разных кластерах на тестовых данных."
      ]
    },
    {
      "cell_type": "code",
      "metadata": {
        "id": "uKERLCdcfK9k"
      },
      "source": [
        "test_labels = model.predict(X_test_scaled)\n",
        "test_labels"
      ],
      "execution_count": null,
      "outputs": []
    },
    {
      "cell_type": "code",
      "metadata": {
        "id": "bZvQRwjtgAfM"
      },
      "source": [
        "print('Кластер 0: {}'.format(X_test.loc[test_labels == 0, 'CRIM'].mean()))\n",
        "print('Кластер 1: {}'.format(X_test.loc[test_labels == 1, 'CRIM'].mean()))\n",
        "print('Кластер 2: {}'.format(X_test.loc[test_labels == 2, 'CRIM'].mean()))\n",
        "# scaled X_test\n",
        "print('Кластер 0: {}'.format(X_test_scaled.loc[test_labels == 0, 'CRIM'].mean()))\n",
        "print('Кластер 1: {}'.format(X_test_scaled.loc[test_labels == 1, 'CRIM'].mean()))\n",
        "print('Кластер 2: {}'.format(X_test_scaled.loc[test_labels == 2, 'CRIM'].mean()))"
      ],
      "execution_count": null,
      "outputs": []
    },
    {
      "cell_type": "code",
      "metadata": {
        "id": "MaNwFFFSs5Hc"
      },
      "source": [
        "print('price Кластер 0: {}'.format(y_test[test_labels == 0].mean()))\n",
        "print('price Кластер 1: {}'.format(y_test[test_labels == 1].mean()))\n",
        "print('price Кластер 2: {}'.format(y_test[test_labels == 2].mean()))"
      ],
      "execution_count": null,
      "outputs": []
    }
  ]
}